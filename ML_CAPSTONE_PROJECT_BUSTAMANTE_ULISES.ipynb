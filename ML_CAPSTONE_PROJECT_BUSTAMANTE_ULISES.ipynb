{
 "cells": [
  {
   "cell_type": "markdown",
   "id": "d4baf185",
   "metadata": {},
   "source": [
    "# MACHINE LEARNING CAPSTONE PROJECT"
   ]
  },
  {
   "cell_type": "markdown",
   "id": "4bde4a35",
   "metadata": {},
   "source": [
    "On this final project, we are going to predict by different kind of Machine Learning algorithms the income of customers based on their shopping patterns.\n",
    "\n",
    "First, we will review the most important features of the dataset, like their columns, statistical measures and categorical importance.\n",
    "\n",
    "After that we are going to apply a Linear regression model, then a Random Forest Classification and finally an unsupervised  PCA algorithm.\n",
    "\n",
    "And at the end, provide the results and conclusions.\n",
    "\n",
    "### Author\n",
    "Ulises José Bustamante Mora\n",
    "\n",
    "<a href=\"https://www.linkedin.com/in/ulisesbmora/\">LinkedIn</a>\n",
    "\n",
    "<a href=\"https://github.com/UlisesBM1998\">GitHub</a>"
   ]
  },
  {
   "cell_type": "markdown",
   "id": "0a8a578c",
   "metadata": {},
   "source": [
    "# DATASET METADATA"
   ]
  },
  {
   "cell_type": "markdown",
   "id": "e31d7069",
   "metadata": {},
   "source": [
    "Source: https://www.kaggle.com/datasets/ahsan81/superstore-marketing-campaign-dataset\n",
    "\n",
    "Number of entries: 2240\n",
    "\n",
    "Privacy: Open source"
   ]
  },
  {
   "cell_type": "markdown",
   "id": "58cb9fd3",
   "metadata": {},
   "source": [
    "# IMPORTING THE LIBRARIES"
   ]
  },
  {
   "cell_type": "code",
   "execution_count": 1,
   "id": "fd71f4c9",
   "metadata": {},
   "outputs": [],
   "source": [
    "import numpy as np\n",
    "import pandas as pd\n",
    "import matplotlib.pyplot as plt\n",
    "import seaborn as sns\n",
    "\n",
    "import warnings\n",
    "warnings.filterwarnings('ignore')"
   ]
  },
  {
   "cell_type": "markdown",
   "id": "69710636",
   "metadata": {},
   "source": [
    "# IMPORTING THE DATASET"
   ]
  },
  {
   "cell_type": "code",
   "execution_count": 2,
   "id": "5854e613",
   "metadata": {
    "scrolled": true
   },
   "outputs": [
    {
     "data": {
      "text/html": [
       "<div>\n",
       "<style scoped>\n",
       "    .dataframe tbody tr th:only-of-type {\n",
       "        vertical-align: middle;\n",
       "    }\n",
       "\n",
       "    .dataframe tbody tr th {\n",
       "        vertical-align: top;\n",
       "    }\n",
       "\n",
       "    .dataframe thead th {\n",
       "        text-align: right;\n",
       "    }\n",
       "</style>\n",
       "<table border=\"1\" class=\"dataframe\">\n",
       "  <thead>\n",
       "    <tr style=\"text-align: right;\">\n",
       "      <th></th>\n",
       "      <th>Id</th>\n",
       "      <th>Year_Birth</th>\n",
       "      <th>Education</th>\n",
       "      <th>Marital_Status</th>\n",
       "      <th>Income</th>\n",
       "      <th>Kidhome</th>\n",
       "      <th>Teenhome</th>\n",
       "      <th>Dt_Customer</th>\n",
       "      <th>Recency</th>\n",
       "      <th>MntWines</th>\n",
       "      <th>...</th>\n",
       "      <th>MntFishProducts</th>\n",
       "      <th>MntSweetProducts</th>\n",
       "      <th>MntGoldProds</th>\n",
       "      <th>NumDealsPurchases</th>\n",
       "      <th>NumWebPurchases</th>\n",
       "      <th>NumCatalogPurchases</th>\n",
       "      <th>NumStorePurchases</th>\n",
       "      <th>NumWebVisitsMonth</th>\n",
       "      <th>Response</th>\n",
       "      <th>Complain</th>\n",
       "    </tr>\n",
       "  </thead>\n",
       "  <tbody>\n",
       "    <tr>\n",
       "      <th>0</th>\n",
       "      <td>1826</td>\n",
       "      <td>1970</td>\n",
       "      <td>Graduation</td>\n",
       "      <td>Divorced</td>\n",
       "      <td>84835.0</td>\n",
       "      <td>0</td>\n",
       "      <td>0</td>\n",
       "      <td>6/16/2014</td>\n",
       "      <td>0</td>\n",
       "      <td>189</td>\n",
       "      <td>...</td>\n",
       "      <td>111</td>\n",
       "      <td>189</td>\n",
       "      <td>218</td>\n",
       "      <td>1</td>\n",
       "      <td>4</td>\n",
       "      <td>4</td>\n",
       "      <td>6</td>\n",
       "      <td>1</td>\n",
       "      <td>1</td>\n",
       "      <td>0</td>\n",
       "    </tr>\n",
       "    <tr>\n",
       "      <th>1</th>\n",
       "      <td>1</td>\n",
       "      <td>1961</td>\n",
       "      <td>Graduation</td>\n",
       "      <td>Single</td>\n",
       "      <td>57091.0</td>\n",
       "      <td>0</td>\n",
       "      <td>0</td>\n",
       "      <td>6/15/2014</td>\n",
       "      <td>0</td>\n",
       "      <td>464</td>\n",
       "      <td>...</td>\n",
       "      <td>7</td>\n",
       "      <td>0</td>\n",
       "      <td>37</td>\n",
       "      <td>1</td>\n",
       "      <td>7</td>\n",
       "      <td>3</td>\n",
       "      <td>7</td>\n",
       "      <td>5</td>\n",
       "      <td>1</td>\n",
       "      <td>0</td>\n",
       "    </tr>\n",
       "    <tr>\n",
       "      <th>2</th>\n",
       "      <td>10476</td>\n",
       "      <td>1958</td>\n",
       "      <td>Graduation</td>\n",
       "      <td>Married</td>\n",
       "      <td>67267.0</td>\n",
       "      <td>0</td>\n",
       "      <td>1</td>\n",
       "      <td>5/13/2014</td>\n",
       "      <td>0</td>\n",
       "      <td>134</td>\n",
       "      <td>...</td>\n",
       "      <td>15</td>\n",
       "      <td>2</td>\n",
       "      <td>30</td>\n",
       "      <td>1</td>\n",
       "      <td>3</td>\n",
       "      <td>2</td>\n",
       "      <td>5</td>\n",
       "      <td>2</td>\n",
       "      <td>0</td>\n",
       "      <td>0</td>\n",
       "    </tr>\n",
       "    <tr>\n",
       "      <th>3</th>\n",
       "      <td>1386</td>\n",
       "      <td>1967</td>\n",
       "      <td>Graduation</td>\n",
       "      <td>Together</td>\n",
       "      <td>32474.0</td>\n",
       "      <td>1</td>\n",
       "      <td>1</td>\n",
       "      <td>11/5/2014</td>\n",
       "      <td>0</td>\n",
       "      <td>10</td>\n",
       "      <td>...</td>\n",
       "      <td>0</td>\n",
       "      <td>0</td>\n",
       "      <td>0</td>\n",
       "      <td>1</td>\n",
       "      <td>1</td>\n",
       "      <td>0</td>\n",
       "      <td>2</td>\n",
       "      <td>7</td>\n",
       "      <td>0</td>\n",
       "      <td>0</td>\n",
       "    </tr>\n",
       "    <tr>\n",
       "      <th>4</th>\n",
       "      <td>5371</td>\n",
       "      <td>1989</td>\n",
       "      <td>Graduation</td>\n",
       "      <td>Single</td>\n",
       "      <td>21474.0</td>\n",
       "      <td>1</td>\n",
       "      <td>0</td>\n",
       "      <td>8/4/2014</td>\n",
       "      <td>0</td>\n",
       "      <td>6</td>\n",
       "      <td>...</td>\n",
       "      <td>11</td>\n",
       "      <td>0</td>\n",
       "      <td>34</td>\n",
       "      <td>2</td>\n",
       "      <td>3</td>\n",
       "      <td>1</td>\n",
       "      <td>2</td>\n",
       "      <td>7</td>\n",
       "      <td>1</td>\n",
       "      <td>0</td>\n",
       "    </tr>\n",
       "  </tbody>\n",
       "</table>\n",
       "<p>5 rows × 22 columns</p>\n",
       "</div>"
      ],
      "text/plain": [
       "      Id  Year_Birth   Education Marital_Status   Income  Kidhome  Teenhome  \\\n",
       "0   1826        1970  Graduation       Divorced  84835.0        0         0   \n",
       "1      1        1961  Graduation         Single  57091.0        0         0   \n",
       "2  10476        1958  Graduation        Married  67267.0        0         1   \n",
       "3   1386        1967  Graduation       Together  32474.0        1         1   \n",
       "4   5371        1989  Graduation         Single  21474.0        1         0   \n",
       "\n",
       "  Dt_Customer  Recency  MntWines  ...  MntFishProducts  MntSweetProducts  \\\n",
       "0   6/16/2014        0       189  ...              111               189   \n",
       "1   6/15/2014        0       464  ...                7                 0   \n",
       "2   5/13/2014        0       134  ...               15                 2   \n",
       "3   11/5/2014        0        10  ...                0                 0   \n",
       "4    8/4/2014        0         6  ...               11                 0   \n",
       "\n",
       "   MntGoldProds  NumDealsPurchases  NumWebPurchases  NumCatalogPurchases  \\\n",
       "0           218                  1                4                    4   \n",
       "1            37                  1                7                    3   \n",
       "2            30                  1                3                    2   \n",
       "3             0                  1                1                    0   \n",
       "4            34                  2                3                    1   \n",
       "\n",
       "   NumStorePurchases  NumWebVisitsMonth  Response  Complain  \n",
       "0                  6                  1         1         0  \n",
       "1                  7                  5         1         0  \n",
       "2                  5                  2         0         0  \n",
       "3                  2                  7         0         0  \n",
       "4                  2                  7         1         0  \n",
       "\n",
       "[5 rows x 22 columns]"
      ]
     },
     "execution_count": 2,
     "metadata": {},
     "output_type": "execute_result"
    }
   ],
   "source": [
    "df_lr = pd.read_csv(\"superstore_data.csv\")\n",
    "df_lr.head()"
   ]
  },
  {
   "cell_type": "markdown",
   "id": "2a8190c5",
   "metadata": {},
   "source": [
    "# DATASET FEATURES AND STATISTICAL MEASURES"
   ]
  },
  {
   "cell_type": "code",
   "execution_count": 3,
   "id": "07011667",
   "metadata": {},
   "outputs": [
    {
     "name": "stdout",
     "output_type": "stream",
     "text": [
      "<class 'pandas.core.frame.DataFrame'>\n",
      "RangeIndex: 2240 entries, 0 to 2239\n",
      "Data columns (total 22 columns):\n",
      " #   Column               Non-Null Count  Dtype  \n",
      "---  ------               --------------  -----  \n",
      " 0   Id                   2240 non-null   int64  \n",
      " 1   Year_Birth           2240 non-null   int64  \n",
      " 2   Education            2240 non-null   object \n",
      " 3   Marital_Status       2240 non-null   object \n",
      " 4   Income               2216 non-null   float64\n",
      " 5   Kidhome              2240 non-null   int64  \n",
      " 6   Teenhome             2240 non-null   int64  \n",
      " 7   Dt_Customer          2240 non-null   object \n",
      " 8   Recency              2240 non-null   int64  \n",
      " 9   MntWines             2240 non-null   int64  \n",
      " 10  MntFruits            2240 non-null   int64  \n",
      " 11  MntMeatProducts      2240 non-null   int64  \n",
      " 12  MntFishProducts      2240 non-null   int64  \n",
      " 13  MntSweetProducts     2240 non-null   int64  \n",
      " 14  MntGoldProds         2240 non-null   int64  \n",
      " 15  NumDealsPurchases    2240 non-null   int64  \n",
      " 16  NumWebPurchases      2240 non-null   int64  \n",
      " 17  NumCatalogPurchases  2240 non-null   int64  \n",
      " 18  NumStorePurchases    2240 non-null   int64  \n",
      " 19  NumWebVisitsMonth    2240 non-null   int64  \n",
      " 20  Response             2240 non-null   int64  \n",
      " 21  Complain             2240 non-null   int64  \n",
      "dtypes: float64(1), int64(18), object(3)\n",
      "memory usage: 385.1+ KB\n"
     ]
    }
   ],
   "source": [
    "df_lr.info()"
   ]
  },
  {
   "cell_type": "markdown",
   "id": "41ecf067",
   "metadata": {},
   "source": [
    "Note: No null values. 22 columns which three are categorial variables and the rest numeric variables."
   ]
  },
  {
   "cell_type": "code",
   "execution_count": 4,
   "id": "e4575b05",
   "metadata": {
    "scrolled": false
   },
   "outputs": [
    {
     "data": {
      "text/html": [
       "<div>\n",
       "<style scoped>\n",
       "    .dataframe tbody tr th:only-of-type {\n",
       "        vertical-align: middle;\n",
       "    }\n",
       "\n",
       "    .dataframe tbody tr th {\n",
       "        vertical-align: top;\n",
       "    }\n",
       "\n",
       "    .dataframe thead th {\n",
       "        text-align: right;\n",
       "    }\n",
       "</style>\n",
       "<table border=\"1\" class=\"dataframe\">\n",
       "  <thead>\n",
       "    <tr style=\"text-align: right;\">\n",
       "      <th></th>\n",
       "      <th>Id</th>\n",
       "      <th>Year_Birth</th>\n",
       "      <th>Income</th>\n",
       "      <th>Kidhome</th>\n",
       "      <th>Teenhome</th>\n",
       "      <th>Recency</th>\n",
       "      <th>MntWines</th>\n",
       "      <th>MntFruits</th>\n",
       "      <th>MntMeatProducts</th>\n",
       "      <th>MntFishProducts</th>\n",
       "      <th>MntSweetProducts</th>\n",
       "      <th>MntGoldProds</th>\n",
       "      <th>NumDealsPurchases</th>\n",
       "      <th>NumWebPurchases</th>\n",
       "      <th>NumCatalogPurchases</th>\n",
       "      <th>NumStorePurchases</th>\n",
       "      <th>NumWebVisitsMonth</th>\n",
       "      <th>Response</th>\n",
       "      <th>Complain</th>\n",
       "    </tr>\n",
       "  </thead>\n",
       "  <tbody>\n",
       "    <tr>\n",
       "      <th>count</th>\n",
       "      <td>2240.000000</td>\n",
       "      <td>2240.000000</td>\n",
       "      <td>2216.000000</td>\n",
       "      <td>2240.000000</td>\n",
       "      <td>2240.000000</td>\n",
       "      <td>2240.000000</td>\n",
       "      <td>2240.000000</td>\n",
       "      <td>2240.000000</td>\n",
       "      <td>2240.000000</td>\n",
       "      <td>2240.000000</td>\n",
       "      <td>2240.000000</td>\n",
       "      <td>2240.000000</td>\n",
       "      <td>2240.000000</td>\n",
       "      <td>2240.000000</td>\n",
       "      <td>2240.000000</td>\n",
       "      <td>2240.000000</td>\n",
       "      <td>2240.000000</td>\n",
       "      <td>2240.000000</td>\n",
       "      <td>2240.000000</td>\n",
       "    </tr>\n",
       "    <tr>\n",
       "      <th>mean</th>\n",
       "      <td>5592.159821</td>\n",
       "      <td>1968.805804</td>\n",
       "      <td>52247.251354</td>\n",
       "      <td>0.444196</td>\n",
       "      <td>0.506250</td>\n",
       "      <td>49.109375</td>\n",
       "      <td>303.935714</td>\n",
       "      <td>26.302232</td>\n",
       "      <td>166.950000</td>\n",
       "      <td>37.525446</td>\n",
       "      <td>27.062946</td>\n",
       "      <td>44.021875</td>\n",
       "      <td>2.325000</td>\n",
       "      <td>4.084821</td>\n",
       "      <td>2.662054</td>\n",
       "      <td>5.790179</td>\n",
       "      <td>5.316518</td>\n",
       "      <td>0.149107</td>\n",
       "      <td>0.009375</td>\n",
       "    </tr>\n",
       "    <tr>\n",
       "      <th>std</th>\n",
       "      <td>3246.662198</td>\n",
       "      <td>11.984069</td>\n",
       "      <td>25173.076661</td>\n",
       "      <td>0.538398</td>\n",
       "      <td>0.544538</td>\n",
       "      <td>28.962453</td>\n",
       "      <td>336.597393</td>\n",
       "      <td>39.773434</td>\n",
       "      <td>225.715373</td>\n",
       "      <td>54.628979</td>\n",
       "      <td>41.280498</td>\n",
       "      <td>52.167439</td>\n",
       "      <td>1.932238</td>\n",
       "      <td>2.778714</td>\n",
       "      <td>2.923101</td>\n",
       "      <td>3.250958</td>\n",
       "      <td>2.426645</td>\n",
       "      <td>0.356274</td>\n",
       "      <td>0.096391</td>\n",
       "    </tr>\n",
       "    <tr>\n",
       "      <th>min</th>\n",
       "      <td>0.000000</td>\n",
       "      <td>1893.000000</td>\n",
       "      <td>1730.000000</td>\n",
       "      <td>0.000000</td>\n",
       "      <td>0.000000</td>\n",
       "      <td>0.000000</td>\n",
       "      <td>0.000000</td>\n",
       "      <td>0.000000</td>\n",
       "      <td>0.000000</td>\n",
       "      <td>0.000000</td>\n",
       "      <td>0.000000</td>\n",
       "      <td>0.000000</td>\n",
       "      <td>0.000000</td>\n",
       "      <td>0.000000</td>\n",
       "      <td>0.000000</td>\n",
       "      <td>0.000000</td>\n",
       "      <td>0.000000</td>\n",
       "      <td>0.000000</td>\n",
       "      <td>0.000000</td>\n",
       "    </tr>\n",
       "    <tr>\n",
       "      <th>25%</th>\n",
       "      <td>2828.250000</td>\n",
       "      <td>1959.000000</td>\n",
       "      <td>35303.000000</td>\n",
       "      <td>0.000000</td>\n",
       "      <td>0.000000</td>\n",
       "      <td>24.000000</td>\n",
       "      <td>23.750000</td>\n",
       "      <td>1.000000</td>\n",
       "      <td>16.000000</td>\n",
       "      <td>3.000000</td>\n",
       "      <td>1.000000</td>\n",
       "      <td>9.000000</td>\n",
       "      <td>1.000000</td>\n",
       "      <td>2.000000</td>\n",
       "      <td>0.000000</td>\n",
       "      <td>3.000000</td>\n",
       "      <td>3.000000</td>\n",
       "      <td>0.000000</td>\n",
       "      <td>0.000000</td>\n",
       "    </tr>\n",
       "    <tr>\n",
       "      <th>50%</th>\n",
       "      <td>5458.500000</td>\n",
       "      <td>1970.000000</td>\n",
       "      <td>51381.500000</td>\n",
       "      <td>0.000000</td>\n",
       "      <td>0.000000</td>\n",
       "      <td>49.000000</td>\n",
       "      <td>173.500000</td>\n",
       "      <td>8.000000</td>\n",
       "      <td>67.000000</td>\n",
       "      <td>12.000000</td>\n",
       "      <td>8.000000</td>\n",
       "      <td>24.000000</td>\n",
       "      <td>2.000000</td>\n",
       "      <td>4.000000</td>\n",
       "      <td>2.000000</td>\n",
       "      <td>5.000000</td>\n",
       "      <td>6.000000</td>\n",
       "      <td>0.000000</td>\n",
       "      <td>0.000000</td>\n",
       "    </tr>\n",
       "    <tr>\n",
       "      <th>75%</th>\n",
       "      <td>8427.750000</td>\n",
       "      <td>1977.000000</td>\n",
       "      <td>68522.000000</td>\n",
       "      <td>1.000000</td>\n",
       "      <td>1.000000</td>\n",
       "      <td>74.000000</td>\n",
       "      <td>504.250000</td>\n",
       "      <td>33.000000</td>\n",
       "      <td>232.000000</td>\n",
       "      <td>50.000000</td>\n",
       "      <td>33.000000</td>\n",
       "      <td>56.000000</td>\n",
       "      <td>3.000000</td>\n",
       "      <td>6.000000</td>\n",
       "      <td>4.000000</td>\n",
       "      <td>8.000000</td>\n",
       "      <td>7.000000</td>\n",
       "      <td>0.000000</td>\n",
       "      <td>0.000000</td>\n",
       "    </tr>\n",
       "    <tr>\n",
       "      <th>max</th>\n",
       "      <td>11191.000000</td>\n",
       "      <td>1996.000000</td>\n",
       "      <td>666666.000000</td>\n",
       "      <td>2.000000</td>\n",
       "      <td>2.000000</td>\n",
       "      <td>99.000000</td>\n",
       "      <td>1493.000000</td>\n",
       "      <td>199.000000</td>\n",
       "      <td>1725.000000</td>\n",
       "      <td>259.000000</td>\n",
       "      <td>263.000000</td>\n",
       "      <td>362.000000</td>\n",
       "      <td>15.000000</td>\n",
       "      <td>27.000000</td>\n",
       "      <td>28.000000</td>\n",
       "      <td>13.000000</td>\n",
       "      <td>20.000000</td>\n",
       "      <td>1.000000</td>\n",
       "      <td>1.000000</td>\n",
       "    </tr>\n",
       "  </tbody>\n",
       "</table>\n",
       "</div>"
      ],
      "text/plain": [
       "                 Id   Year_Birth         Income      Kidhome     Teenhome  \\\n",
       "count   2240.000000  2240.000000    2216.000000  2240.000000  2240.000000   \n",
       "mean    5592.159821  1968.805804   52247.251354     0.444196     0.506250   \n",
       "std     3246.662198    11.984069   25173.076661     0.538398     0.544538   \n",
       "min        0.000000  1893.000000    1730.000000     0.000000     0.000000   \n",
       "25%     2828.250000  1959.000000   35303.000000     0.000000     0.000000   \n",
       "50%     5458.500000  1970.000000   51381.500000     0.000000     0.000000   \n",
       "75%     8427.750000  1977.000000   68522.000000     1.000000     1.000000   \n",
       "max    11191.000000  1996.000000  666666.000000     2.000000     2.000000   \n",
       "\n",
       "           Recency     MntWines    MntFruits  MntMeatProducts  \\\n",
       "count  2240.000000  2240.000000  2240.000000      2240.000000   \n",
       "mean     49.109375   303.935714    26.302232       166.950000   \n",
       "std      28.962453   336.597393    39.773434       225.715373   \n",
       "min       0.000000     0.000000     0.000000         0.000000   \n",
       "25%      24.000000    23.750000     1.000000        16.000000   \n",
       "50%      49.000000   173.500000     8.000000        67.000000   \n",
       "75%      74.000000   504.250000    33.000000       232.000000   \n",
       "max      99.000000  1493.000000   199.000000      1725.000000   \n",
       "\n",
       "       MntFishProducts  MntSweetProducts  MntGoldProds  NumDealsPurchases  \\\n",
       "count      2240.000000       2240.000000   2240.000000        2240.000000   \n",
       "mean         37.525446         27.062946     44.021875           2.325000   \n",
       "std          54.628979         41.280498     52.167439           1.932238   \n",
       "min           0.000000          0.000000      0.000000           0.000000   \n",
       "25%           3.000000          1.000000      9.000000           1.000000   \n",
       "50%          12.000000          8.000000     24.000000           2.000000   \n",
       "75%          50.000000         33.000000     56.000000           3.000000   \n",
       "max         259.000000        263.000000    362.000000          15.000000   \n",
       "\n",
       "       NumWebPurchases  NumCatalogPurchases  NumStorePurchases  \\\n",
       "count      2240.000000          2240.000000        2240.000000   \n",
       "mean          4.084821             2.662054           5.790179   \n",
       "std           2.778714             2.923101           3.250958   \n",
       "min           0.000000             0.000000           0.000000   \n",
       "25%           2.000000             0.000000           3.000000   \n",
       "50%           4.000000             2.000000           5.000000   \n",
       "75%           6.000000             4.000000           8.000000   \n",
       "max          27.000000            28.000000          13.000000   \n",
       "\n",
       "       NumWebVisitsMonth     Response     Complain  \n",
       "count        2240.000000  2240.000000  2240.000000  \n",
       "mean            5.316518     0.149107     0.009375  \n",
       "std             2.426645     0.356274     0.096391  \n",
       "min             0.000000     0.000000     0.000000  \n",
       "25%             3.000000     0.000000     0.000000  \n",
       "50%             6.000000     0.000000     0.000000  \n",
       "75%             7.000000     0.000000     0.000000  \n",
       "max            20.000000     1.000000     1.000000  "
      ]
     },
     "execution_count": 4,
     "metadata": {},
     "output_type": "execute_result"
    }
   ],
   "source": [
    "df_lr.describe()"
   ]
  },
  {
   "cell_type": "markdown",
   "id": "4b4fc879",
   "metadata": {},
   "source": [
    "# EXPLORATORY DATA ANALYSIS"
   ]
  },
  {
   "cell_type": "markdown",
   "id": "5ae11138",
   "metadata": {},
   "source": [
    "### Plotting which education level has more income in ten thousand dollars scale."
   ]
  },
  {
   "cell_type": "code",
   "execution_count": 5,
   "id": "f1fe8f89",
   "metadata": {},
   "outputs": [
    {
     "data": {
      "text/plain": [
       "<AxesSubplot:xlabel='Education'>"
      ]
     },
     "execution_count": 5,
     "metadata": {},
     "output_type": "execute_result"
    },
    {
     "data": {
      "image/png": "[encoded data removed]",
      "text/plain": [
       "<Figure size 720x504 with 1 Axes>"
      ]
     },
     "metadata": {
      "needs_background": "light"
     },
     "output_type": "display_data"
    }
   ],
   "source": [
    "plt.figure(figsize=(10,7))\n",
    "df_lr.groupby(\"Education\")[\"Income\"].sum().sort_values(ascending = False).plot(kind = \"bar\")"
   ]
  },
  {
   "cell_type": "markdown",
   "id": "f2f59e35",
   "metadata": {},
   "source": [
    "### Plotting which Marital status has more income in ten thousand dollars scale."
   ]
  },
  {
   "cell_type": "code",
   "execution_count": 6,
   "id": "8271b175",
   "metadata": {},
   "outputs": [
    {
     "data": {
      "text/plain": [
       "<AxesSubplot:xlabel='Marital_Status'>"
      ]
     },
     "execution_count": 6,
     "metadata": {},
     "output_type": "execute_result"
    },
    {
     "data": {
      "image/png": "[encoded data removed]",
      "text/plain": [
       "<Figure size 720x504 with 1 Axes>"
      ]
     },
     "metadata": {
      "needs_background": "light"
     },
     "output_type": "display_data"
    }
   ],
   "source": [
    "plt.figure(figsize=(10,7))\n",
    "df_lr.groupby(\"Marital_Status\")[\"Income\"].sum().sort_values(ascending = False).plot(kind = \"bar\")"
   ]
  },
  {
   "cell_type": "markdown",
   "id": "1ca42e7d",
   "metadata": {},
   "source": [
    "### As we are going to predict the Income, we will see which variables have the most correlation."
   ]
  },
  {
   "cell_type": "code",
   "execution_count": 7,
   "id": "3f3f2ff0",
   "metadata": {},
   "outputs": [
    {
     "data": {
      "text/plain": [
       "NumWebVisitsMonth     -0.553088\n",
       "Kidhome               -0.428669\n",
       "Year_Birth            -0.161791\n",
       "NumDealsPurchases     -0.083101\n",
       "Complain              -0.027225\n",
       "Recency               -0.003970\n",
       "Id                     0.013095\n",
       "Teenhome               0.019133\n",
       "Response               0.133047\n",
       "MntGoldProds           0.325916\n",
       "NumWebPurchases        0.387878\n",
       "MntFruits              0.430842\n",
       "MntFishProducts        0.438871\n",
       "MntSweetProducts       0.440744\n",
       "NumStorePurchases      0.529362\n",
       "MntWines               0.578650\n",
       "MntMeatProducts        0.584633\n",
       "NumCatalogPurchases    0.589162\n",
       "Income                 1.000000\n",
       "Name: Income, dtype: float64"
      ]
     },
     "execution_count": 7,
     "metadata": {},
     "output_type": "execute_result"
    }
   ],
   "source": [
    "df_lr.corr()[\"Income\"].sort_values()"
   ]
  },
  {
   "cell_type": "markdown",
   "id": "6b1d1909",
   "metadata": {},
   "source": [
    "In this case:\n",
    "\n",
    "NumCatalogPurchases, MntMeatProducts, MntWines, NumStorePurchases have a medium positive correlation.\n",
    "\n",
    "NumWebVisitsMonth and Kidhome have a medium negative correlation."
   ]
  },
  {
   "cell_type": "markdown",
   "id": "80871413",
   "metadata": {},
   "source": [
    "### Plotting the correlation between the Income and the number of web visits per month."
   ]
  },
  {
   "cell_type": "code",
   "execution_count": 8,
   "id": "b100b8cb",
   "metadata": {},
   "outputs": [
    {
     "data": {
      "text/plain": [
       "<seaborn.axisgrid.FacetGrid at 0x213830ea1f0>"
      ]
     },
     "execution_count": 8,
     "metadata": {},
     "output_type": "execute_result"
    },
    {
     "data": {
      "image/png": "[encoded data removed]",
      "text/plain": [
       "<Figure size 360x360 with 1 Axes>"
      ]
     },
     "metadata": {
      "needs_background": "light"
     },
     "output_type": "display_data"
    }
   ],
   "source": [
    "sns.lmplot(x=\"Income\", y=\"NumWebVisitsMonth\", data = df_lr)"
   ]
  },
  {
   "cell_type": "markdown",
   "id": "d39ddc7c",
   "metadata": {},
   "source": [
    "### Plotting the correlation between the Income and the number of catalog purchases."
   ]
  },
  {
   "cell_type": "code",
   "execution_count": 9,
   "id": "5b0a1fd0",
   "metadata": {},
   "outputs": [
    {
     "data": {
      "text/plain": [
       "<seaborn.axisgrid.FacetGrid at 0x21383088760>"
      ]
     },
     "execution_count": 9,
     "metadata": {},
     "output_type": "execute_result"
    },
    {
     "data": {
      "image/png": "[encoded data removed]",
      "text/plain": [
       "<Figure size 360x360 with 1 Axes>"
      ]
     },
     "metadata": {
      "needs_background": "light"
     },
     "output_type": "display_data"
    }
   ],
   "source": [
    "sns.lmplot(x=\"Income\", y=\"NumCatalogPurchases\", data = df_lr)"
   ]
  },
  {
   "cell_type": "markdown",
   "id": "80fdd812",
   "metadata": {},
   "source": [
    "### Plotting how distributed is the Income variables, most of the values are between 0 and 100.000 USD"
   ]
  },
  {
   "cell_type": "code",
   "execution_count": 10,
   "id": "50898398",
   "metadata": {},
   "outputs": [
    {
     "data": {
      "text/plain": [
       "<seaborn.axisgrid.FacetGrid at 0x213834ea340>"
      ]
     },
     "execution_count": 10,
     "metadata": {},
     "output_type": "execute_result"
    },
    {
     "data": {
      "text/plain": [
       "<Figure size 1080x504 with 0 Axes>"
      ]
     },
     "metadata": {},
     "output_type": "display_data"
    },
    {
     "data": {
      "image/png": "[encoded data removed]",
      "text/plain": [
       "<Figure size 360x360 with 1 Axes>"
      ]
     },
     "metadata": {
      "needs_background": "light"
     },
     "output_type": "display_data"
    }
   ],
   "source": [
    "plt.figure(figsize=(15,7))\n",
    "sns.displot(df_lr[\"Income\"])"
   ]
  },
  {
   "cell_type": "markdown",
   "id": "d4e22b90",
   "metadata": {},
   "source": [
    "### Noticed outliers on the y"
   ]
  },
  {
   "cell_type": "code",
   "execution_count": 11,
   "id": "a5246343",
   "metadata": {},
   "outputs": [
    {
     "data": {
      "text/plain": [
       "<AxesSubplot:xlabel='Marital_Status', ylabel='Income'>"
      ]
     },
     "execution_count": 11,
     "metadata": {},
     "output_type": "execute_result"
    },
    {
     "data": {
      "image/png": "[encoded data removed]",
      "text/plain": [
       "<Figure size 432x288 with 1 Axes>"
      ]
     },
     "metadata": {
      "needs_background": "light"
     },
     "output_type": "display_data"
    }
   ],
   "source": [
    "sns.boxplot(y = df_lr[\"Income\"], x =  df_lr[\"Marital_Status\"], data = df_lr)"
   ]
  },
  {
   "cell_type": "markdown",
   "id": "cdbf56d9",
   "metadata": {},
   "source": [
    "### Removing all outliers (they were four values that represent the 0,18% of the dataset)"
   ]
  },
  {
   "cell_type": "code",
   "execution_count": 12,
   "id": "4574ccca",
   "metadata": {},
   "outputs": [],
   "source": [
    "df_lr = df_lr.where(df_lr[\"Income\"]< 150000)"
   ]
  },
  {
   "cell_type": "markdown",
   "id": "c3a3c44b",
   "metadata": {},
   "source": [
    "### Confirming that all outliers were deleted"
   ]
  },
  {
   "cell_type": "code",
   "execution_count": 13,
   "id": "6db13b8e",
   "metadata": {
    "scrolled": true
   },
   "outputs": [
    {
     "data": {
      "text/html": [
       "<div>\n",
       "<style scoped>\n",
       "    .dataframe tbody tr th:only-of-type {\n",
       "        vertical-align: middle;\n",
       "    }\n",
       "\n",
       "    .dataframe tbody tr th {\n",
       "        vertical-align: top;\n",
       "    }\n",
       "\n",
       "    .dataframe thead th {\n",
       "        text-align: right;\n",
       "    }\n",
       "</style>\n",
       "<table border=\"1\" class=\"dataframe\">\n",
       "  <thead>\n",
       "    <tr style=\"text-align: right;\">\n",
       "      <th></th>\n",
       "      <th>Id</th>\n",
       "      <th>Year_Birth</th>\n",
       "      <th>Income</th>\n",
       "      <th>Kidhome</th>\n",
       "      <th>Teenhome</th>\n",
       "      <th>Recency</th>\n",
       "      <th>MntWines</th>\n",
       "      <th>MntFruits</th>\n",
       "      <th>MntMeatProducts</th>\n",
       "      <th>MntFishProducts</th>\n",
       "      <th>MntSweetProducts</th>\n",
       "      <th>MntGoldProds</th>\n",
       "      <th>NumDealsPurchases</th>\n",
       "      <th>NumWebPurchases</th>\n",
       "      <th>NumCatalogPurchases</th>\n",
       "      <th>NumStorePurchases</th>\n",
       "      <th>NumWebVisitsMonth</th>\n",
       "      <th>Response</th>\n",
       "      <th>Complain</th>\n",
       "    </tr>\n",
       "  </thead>\n",
       "  <tbody>\n",
       "    <tr>\n",
       "      <th>count</th>\n",
       "      <td>2208.000000</td>\n",
       "      <td>2208.000000</td>\n",
       "      <td>2208.000000</td>\n",
       "      <td>2208.000000</td>\n",
       "      <td>2208.000000</td>\n",
       "      <td>2208.000000</td>\n",
       "      <td>2208.000000</td>\n",
       "      <td>2208.000000</td>\n",
       "      <td>2208.000000</td>\n",
       "      <td>2208.000000</td>\n",
       "      <td>2208.000000</td>\n",
       "      <td>2208.000000</td>\n",
       "      <td>2208.000000</td>\n",
       "      <td>2208.000000</td>\n",
       "      <td>2208.000000</td>\n",
       "      <td>2208.000000</td>\n",
       "      <td>2208.000000</td>\n",
       "      <td>2208.000000</td>\n",
       "      <td>2208.000000</td>\n",
       "    </tr>\n",
       "    <tr>\n",
       "      <th>mean</th>\n",
       "      <td>5586.900815</td>\n",
       "      <td>1968.807065</td>\n",
       "      <td>51633.638134</td>\n",
       "      <td>0.442029</td>\n",
       "      <td>0.506341</td>\n",
       "      <td>49.014040</td>\n",
       "      <td>306.100996</td>\n",
       "      <td>26.435236</td>\n",
       "      <td>165.347826</td>\n",
       "      <td>37.758605</td>\n",
       "      <td>27.122283</td>\n",
       "      <td>44.110960</td>\n",
       "      <td>2.316576</td>\n",
       "      <td>4.098279</td>\n",
       "      <td>2.644928</td>\n",
       "      <td>5.819293</td>\n",
       "      <td>5.334239</td>\n",
       "      <td>0.150815</td>\n",
       "      <td>0.009511</td>\n",
       "    </tr>\n",
       "    <tr>\n",
       "      <th>std</th>\n",
       "      <td>3249.110303</td>\n",
       "      <td>11.991913</td>\n",
       "      <td>20713.376530</td>\n",
       "      <td>0.537063</td>\n",
       "      <td>0.544325</td>\n",
       "      <td>28.938638</td>\n",
       "      <td>337.516270</td>\n",
       "      <td>39.842478</td>\n",
       "      <td>217.852649</td>\n",
       "      <td>54.813323</td>\n",
       "      <td>41.116999</td>\n",
       "      <td>51.852016</td>\n",
       "      <td>1.885450</td>\n",
       "      <td>2.736724</td>\n",
       "      <td>2.798441</td>\n",
       "      <td>3.241866</td>\n",
       "      <td>2.413837</td>\n",
       "      <td>0.357950</td>\n",
       "      <td>0.097081</td>\n",
       "    </tr>\n",
       "    <tr>\n",
       "      <th>min</th>\n",
       "      <td>0.000000</td>\n",
       "      <td>1893.000000</td>\n",
       "      <td>1730.000000</td>\n",
       "      <td>0.000000</td>\n",
       "      <td>0.000000</td>\n",
       "      <td>0.000000</td>\n",
       "      <td>0.000000</td>\n",
       "      <td>0.000000</td>\n",
       "      <td>0.000000</td>\n",
       "      <td>0.000000</td>\n",
       "      <td>0.000000</td>\n",
       "      <td>0.000000</td>\n",
       "      <td>0.000000</td>\n",
       "      <td>0.000000</td>\n",
       "      <td>0.000000</td>\n",
       "      <td>0.000000</td>\n",
       "      <td>0.000000</td>\n",
       "      <td>0.000000</td>\n",
       "      <td>0.000000</td>\n",
       "    </tr>\n",
       "    <tr>\n",
       "      <th>25%</th>\n",
       "      <td>2814.750000</td>\n",
       "      <td>1959.000000</td>\n",
       "      <td>35196.000000</td>\n",
       "      <td>0.000000</td>\n",
       "      <td>0.000000</td>\n",
       "      <td>24.000000</td>\n",
       "      <td>24.000000</td>\n",
       "      <td>2.000000</td>\n",
       "      <td>16.000000</td>\n",
       "      <td>3.000000</td>\n",
       "      <td>1.000000</td>\n",
       "      <td>9.000000</td>\n",
       "      <td>1.000000</td>\n",
       "      <td>2.000000</td>\n",
       "      <td>0.000000</td>\n",
       "      <td>3.000000</td>\n",
       "      <td>3.000000</td>\n",
       "      <td>0.000000</td>\n",
       "      <td>0.000000</td>\n",
       "    </tr>\n",
       "    <tr>\n",
       "      <th>50%</th>\n",
       "      <td>5458.500000</td>\n",
       "      <td>1970.000000</td>\n",
       "      <td>51301.000000</td>\n",
       "      <td>0.000000</td>\n",
       "      <td>0.000000</td>\n",
       "      <td>49.000000</td>\n",
       "      <td>177.500000</td>\n",
       "      <td>8.000000</td>\n",
       "      <td>68.000000</td>\n",
       "      <td>12.000000</td>\n",
       "      <td>8.000000</td>\n",
       "      <td>25.000000</td>\n",
       "      <td>2.000000</td>\n",
       "      <td>4.000000</td>\n",
       "      <td>2.000000</td>\n",
       "      <td>5.000000</td>\n",
       "      <td>6.000000</td>\n",
       "      <td>0.000000</td>\n",
       "      <td>0.000000</td>\n",
       "    </tr>\n",
       "    <tr>\n",
       "      <th>75%</th>\n",
       "      <td>8418.500000</td>\n",
       "      <td>1977.000000</td>\n",
       "      <td>68289.750000</td>\n",
       "      <td>1.000000</td>\n",
       "      <td>1.000000</td>\n",
       "      <td>74.000000</td>\n",
       "      <td>507.000000</td>\n",
       "      <td>33.000000</td>\n",
       "      <td>232.000000</td>\n",
       "      <td>50.000000</td>\n",
       "      <td>34.000000</td>\n",
       "      <td>56.250000</td>\n",
       "      <td>3.000000</td>\n",
       "      <td>6.000000</td>\n",
       "      <td>4.000000</td>\n",
       "      <td>8.000000</td>\n",
       "      <td>7.000000</td>\n",
       "      <td>0.000000</td>\n",
       "      <td>0.000000</td>\n",
       "    </tr>\n",
       "    <tr>\n",
       "      <th>max</th>\n",
       "      <td>11191.000000</td>\n",
       "      <td>1996.000000</td>\n",
       "      <td>113734.000000</td>\n",
       "      <td>2.000000</td>\n",
       "      <td>2.000000</td>\n",
       "      <td>99.000000</td>\n",
       "      <td>1493.000000</td>\n",
       "      <td>199.000000</td>\n",
       "      <td>1725.000000</td>\n",
       "      <td>259.000000</td>\n",
       "      <td>262.000000</td>\n",
       "      <td>321.000000</td>\n",
       "      <td>15.000000</td>\n",
       "      <td>27.000000</td>\n",
       "      <td>28.000000</td>\n",
       "      <td>13.000000</td>\n",
       "      <td>20.000000</td>\n",
       "      <td>1.000000</td>\n",
       "      <td>1.000000</td>\n",
       "    </tr>\n",
       "  </tbody>\n",
       "</table>\n",
       "</div>"
      ],
      "text/plain": [
       "                 Id   Year_Birth         Income      Kidhome     Teenhome  \\\n",
       "count   2208.000000  2208.000000    2208.000000  2208.000000  2208.000000   \n",
       "mean    5586.900815  1968.807065   51633.638134     0.442029     0.506341   \n",
       "std     3249.110303    11.991913   20713.376530     0.537063     0.544325   \n",
       "min        0.000000  1893.000000    1730.000000     0.000000     0.000000   \n",
       "25%     2814.750000  1959.000000   35196.000000     0.000000     0.000000   \n",
       "50%     5458.500000  1970.000000   51301.000000     0.000000     0.000000   \n",
       "75%     8418.500000  1977.000000   68289.750000     1.000000     1.000000   \n",
       "max    11191.000000  1996.000000  113734.000000     2.000000     2.000000   \n",
       "\n",
       "           Recency     MntWines    MntFruits  MntMeatProducts  \\\n",
       "count  2208.000000  2208.000000  2208.000000      2208.000000   \n",
       "mean     49.014040   306.100996    26.435236       165.347826   \n",
       "std      28.938638   337.516270    39.842478       217.852649   \n",
       "min       0.000000     0.000000     0.000000         0.000000   \n",
       "25%      24.000000    24.000000     2.000000        16.000000   \n",
       "50%      49.000000   177.500000     8.000000        68.000000   \n",
       "75%      74.000000   507.000000    33.000000       232.000000   \n",
       "max      99.000000  1493.000000   199.000000      1725.000000   \n",
       "\n",
       "       MntFishProducts  MntSweetProducts  MntGoldProds  NumDealsPurchases  \\\n",
       "count      2208.000000       2208.000000   2208.000000        2208.000000   \n",
       "mean         37.758605         27.122283     44.110960           2.316576   \n",
       "std          54.813323         41.116999     51.852016           1.885450   \n",
       "min           0.000000          0.000000      0.000000           0.000000   \n",
       "25%           3.000000          1.000000      9.000000           1.000000   \n",
       "50%          12.000000          8.000000     25.000000           2.000000   \n",
       "75%          50.000000         34.000000     56.250000           3.000000   \n",
       "max         259.000000        262.000000    321.000000          15.000000   \n",
       "\n",
       "       NumWebPurchases  NumCatalogPurchases  NumStorePurchases  \\\n",
       "count      2208.000000          2208.000000        2208.000000   \n",
       "mean          4.098279             2.644928           5.819293   \n",
       "std           2.736724             2.798441           3.241866   \n",
       "min           0.000000             0.000000           0.000000   \n",
       "25%           2.000000             0.000000           3.000000   \n",
       "50%           4.000000             2.000000           5.000000   \n",
       "75%           6.000000             4.000000           8.000000   \n",
       "max          27.000000            28.000000          13.000000   \n",
       "\n",
       "       NumWebVisitsMonth     Response     Complain  \n",
       "count        2208.000000  2208.000000  2208.000000  \n",
       "mean            5.334239     0.150815     0.009511  \n",
       "std             2.413837     0.357950     0.097081  \n",
       "min             0.000000     0.000000     0.000000  \n",
       "25%             3.000000     0.000000     0.000000  \n",
       "50%             6.000000     0.000000     0.000000  \n",
       "75%             7.000000     0.000000     0.000000  \n",
       "max            20.000000     1.000000     1.000000  "
      ]
     },
     "execution_count": 13,
     "metadata": {},
     "output_type": "execute_result"
    }
   ],
   "source": [
    "df_lr.describe()"
   ]
  },
  {
   "cell_type": "code",
   "execution_count": 55,
   "id": "91ea0525",
   "metadata": {},
   "outputs": [
    {
     "data": {
      "text/plain": [
       "<seaborn.axisgrid.FacetGrid at 0x213876f2c70>"
      ]
     },
     "execution_count": 55,
     "metadata": {},
     "output_type": "execute_result"
    },
    {
     "data": {
      "image/png": "[encoded data removed]",
      "text/plain": [
       "<Figure size 360x360 with 1 Axes>"
      ]
     },
     "metadata": {
      "needs_background": "light"
     },
     "output_type": "display_data"
    }
   ],
   "source": [
    "sns.displot(df_lr[\"Income\"])"
   ]
  },
  {
   "cell_type": "code",
   "execution_count": 14,
   "id": "5c15c83b",
   "metadata": {},
   "outputs": [
    {
     "data": {
      "text/plain": [
       "<AxesSubplot:xlabel='Marital_Status', ylabel='Income'>"
      ]
     },
     "execution_count": 14,
     "metadata": {},
     "output_type": "execute_result"
    },
    {
     "data": {
      "image/png": "[encoded data removed]",
      "text/plain": [
       "<Figure size 432x288 with 1 Axes>"
      ]
     },
     "metadata": {
      "needs_background": "light"
     },
     "output_type": "display_data"
    }
   ],
   "source": [
    "sns.boxplot(y = df_lr[\"Income\"], x =  df_lr[\"Marital_Status\"], data = df_lr)"
   ]
  },
  {
   "cell_type": "markdown",
   "id": "eca1da64",
   "metadata": {},
   "source": [
    "# EXTRACT, TRANSFORM AND LOAD"
   ]
  },
  {
   "cell_type": "markdown",
   "id": "23258099",
   "metadata": {},
   "source": [
    "As we saw on the categorial charts, those variables are pretty important because it shows a clear different between them. So let's create dummies variables or one hot coding to tranform those categorial variables into numerical ones."
   ]
  },
  {
   "cell_type": "code",
   "execution_count": 15,
   "id": "c99a6fdc",
   "metadata": {},
   "outputs": [
    {
     "data": {
      "text/html": [
       "<div>\n",
       "<style scoped>\n",
       "    .dataframe tbody tr th:only-of-type {\n",
       "        vertical-align: middle;\n",
       "    }\n",
       "\n",
       "    .dataframe tbody tr th {\n",
       "        vertical-align: top;\n",
       "    }\n",
       "\n",
       "    .dataframe thead th {\n",
       "        text-align: right;\n",
       "    }\n",
       "</style>\n",
       "<table border=\"1\" class=\"dataframe\">\n",
       "  <thead>\n",
       "    <tr style=\"text-align: right;\">\n",
       "      <th></th>\n",
       "      <th>Absurd</th>\n",
       "      <th>Alone</th>\n",
       "      <th>Divorced</th>\n",
       "      <th>Married</th>\n",
       "      <th>Single</th>\n",
       "      <th>Together</th>\n",
       "      <th>Widow</th>\n",
       "      <th>YOLO</th>\n",
       "    </tr>\n",
       "  </thead>\n",
       "  <tbody>\n",
       "    <tr>\n",
       "      <th>0</th>\n",
       "      <td>0</td>\n",
       "      <td>0</td>\n",
       "      <td>1</td>\n",
       "      <td>0</td>\n",
       "      <td>0</td>\n",
       "      <td>0</td>\n",
       "      <td>0</td>\n",
       "      <td>0</td>\n",
       "    </tr>\n",
       "    <tr>\n",
       "      <th>1</th>\n",
       "      <td>0</td>\n",
       "      <td>0</td>\n",
       "      <td>0</td>\n",
       "      <td>0</td>\n",
       "      <td>1</td>\n",
       "      <td>0</td>\n",
       "      <td>0</td>\n",
       "      <td>0</td>\n",
       "    </tr>\n",
       "    <tr>\n",
       "      <th>2</th>\n",
       "      <td>0</td>\n",
       "      <td>0</td>\n",
       "      <td>0</td>\n",
       "      <td>1</td>\n",
       "      <td>0</td>\n",
       "      <td>0</td>\n",
       "      <td>0</td>\n",
       "      <td>0</td>\n",
       "    </tr>\n",
       "    <tr>\n",
       "      <th>3</th>\n",
       "      <td>0</td>\n",
       "      <td>0</td>\n",
       "      <td>0</td>\n",
       "      <td>0</td>\n",
       "      <td>0</td>\n",
       "      <td>1</td>\n",
       "      <td>0</td>\n",
       "      <td>0</td>\n",
       "    </tr>\n",
       "    <tr>\n",
       "      <th>4</th>\n",
       "      <td>0</td>\n",
       "      <td>0</td>\n",
       "      <td>0</td>\n",
       "      <td>0</td>\n",
       "      <td>1</td>\n",
       "      <td>0</td>\n",
       "      <td>0</td>\n",
       "      <td>0</td>\n",
       "    </tr>\n",
       "  </tbody>\n",
       "</table>\n",
       "</div>"
      ],
      "text/plain": [
       "   Absurd  Alone  Divorced  Married  Single  Together  Widow  YOLO\n",
       "0       0      0         1        0       0         0      0     0\n",
       "1       0      0         0        0       1         0      0     0\n",
       "2       0      0         0        1       0         0      0     0\n",
       "3       0      0         0        0       0         1      0     0\n",
       "4       0      0         0        0       1         0      0     0"
      ]
     },
     "execution_count": 15,
     "metadata": {},
     "output_type": "execute_result"
    }
   ],
   "source": [
    "marital = pd.get_dummies(df_lr[\"Marital_Status\"])\n",
    "marital.head()"
   ]
  },
  {
   "cell_type": "code",
   "execution_count": 16,
   "id": "6a8e02a1",
   "metadata": {},
   "outputs": [
    {
     "data": {
      "text/html": [
       "<div>\n",
       "<style scoped>\n",
       "    .dataframe tbody tr th:only-of-type {\n",
       "        vertical-align: middle;\n",
       "    }\n",
       "\n",
       "    .dataframe tbody tr th {\n",
       "        vertical-align: top;\n",
       "    }\n",
       "\n",
       "    .dataframe thead th {\n",
       "        text-align: right;\n",
       "    }\n",
       "</style>\n",
       "<table border=\"1\" class=\"dataframe\">\n",
       "  <thead>\n",
       "    <tr style=\"text-align: right;\">\n",
       "      <th></th>\n",
       "      <th>2n Cycle</th>\n",
       "      <th>Basic</th>\n",
       "      <th>Graduation</th>\n",
       "      <th>Master</th>\n",
       "      <th>PhD</th>\n",
       "    </tr>\n",
       "  </thead>\n",
       "  <tbody>\n",
       "    <tr>\n",
       "      <th>0</th>\n",
       "      <td>0</td>\n",
       "      <td>0</td>\n",
       "      <td>1</td>\n",
       "      <td>0</td>\n",
       "      <td>0</td>\n",
       "    </tr>\n",
       "    <tr>\n",
       "      <th>1</th>\n",
       "      <td>0</td>\n",
       "      <td>0</td>\n",
       "      <td>1</td>\n",
       "      <td>0</td>\n",
       "      <td>0</td>\n",
       "    </tr>\n",
       "    <tr>\n",
       "      <th>2</th>\n",
       "      <td>0</td>\n",
       "      <td>0</td>\n",
       "      <td>1</td>\n",
       "      <td>0</td>\n",
       "      <td>0</td>\n",
       "    </tr>\n",
       "    <tr>\n",
       "      <th>3</th>\n",
       "      <td>0</td>\n",
       "      <td>0</td>\n",
       "      <td>1</td>\n",
       "      <td>0</td>\n",
       "      <td>0</td>\n",
       "    </tr>\n",
       "    <tr>\n",
       "      <th>4</th>\n",
       "      <td>0</td>\n",
       "      <td>0</td>\n",
       "      <td>1</td>\n",
       "      <td>0</td>\n",
       "      <td>0</td>\n",
       "    </tr>\n",
       "  </tbody>\n",
       "</table>\n",
       "</div>"
      ],
      "text/plain": [
       "   2n Cycle  Basic  Graduation  Master  PhD\n",
       "0         0      0           1       0    0\n",
       "1         0      0           1       0    0\n",
       "2         0      0           1       0    0\n",
       "3         0      0           1       0    0\n",
       "4         0      0           1       0    0"
      ]
     },
     "execution_count": 16,
     "metadata": {},
     "output_type": "execute_result"
    }
   ],
   "source": [
    "education = pd.get_dummies(df_lr[\"Education\"])\n",
    "education.head()"
   ]
  },
  {
   "cell_type": "markdown",
   "id": "26ee1a78",
   "metadata": {},
   "source": [
    "First, we create a pre final dataset when all data is merged (the original dataset + dummies variables)"
   ]
  },
  {
   "cell_type": "code",
   "execution_count": 17,
   "id": "05420c3f",
   "metadata": {
    "scrolled": true
   },
   "outputs": [
    {
     "data": {
      "text/html": [
       "<div>\n",
       "<style scoped>\n",
       "    .dataframe tbody tr th:only-of-type {\n",
       "        vertical-align: middle;\n",
       "    }\n",
       "\n",
       "    .dataframe tbody tr th {\n",
       "        vertical-align: top;\n",
       "    }\n",
       "\n",
       "    .dataframe thead th {\n",
       "        text-align: right;\n",
       "    }\n",
       "</style>\n",
       "<table border=\"1\" class=\"dataframe\">\n",
       "  <thead>\n",
       "    <tr style=\"text-align: right;\">\n",
       "      <th></th>\n",
       "      <th>Id</th>\n",
       "      <th>Year_Birth</th>\n",
       "      <th>Education</th>\n",
       "      <th>Marital_Status</th>\n",
       "      <th>Income</th>\n",
       "      <th>Kidhome</th>\n",
       "      <th>Teenhome</th>\n",
       "      <th>Dt_Customer</th>\n",
       "      <th>Recency</th>\n",
       "      <th>MntWines</th>\n",
       "      <th>...</th>\n",
       "      <th>Married</th>\n",
       "      <th>Single</th>\n",
       "      <th>Together</th>\n",
       "      <th>Widow</th>\n",
       "      <th>YOLO</th>\n",
       "      <th>2n Cycle</th>\n",
       "      <th>Basic</th>\n",
       "      <th>Graduation</th>\n",
       "      <th>Master</th>\n",
       "      <th>PhD</th>\n",
       "    </tr>\n",
       "  </thead>\n",
       "  <tbody>\n",
       "    <tr>\n",
       "      <th>0</th>\n",
       "      <td>1826.0</td>\n",
       "      <td>1970.0</td>\n",
       "      <td>Graduation</td>\n",
       "      <td>Divorced</td>\n",
       "      <td>84835.0</td>\n",
       "      <td>0.0</td>\n",
       "      <td>0.0</td>\n",
       "      <td>6/16/2014</td>\n",
       "      <td>0.0</td>\n",
       "      <td>189.0</td>\n",
       "      <td>...</td>\n",
       "      <td>0</td>\n",
       "      <td>0</td>\n",
       "      <td>0</td>\n",
       "      <td>0</td>\n",
       "      <td>0</td>\n",
       "      <td>0</td>\n",
       "      <td>0</td>\n",
       "      <td>1</td>\n",
       "      <td>0</td>\n",
       "      <td>0</td>\n",
       "    </tr>\n",
       "    <tr>\n",
       "      <th>1</th>\n",
       "      <td>1.0</td>\n",
       "      <td>1961.0</td>\n",
       "      <td>Graduation</td>\n",
       "      <td>Single</td>\n",
       "      <td>57091.0</td>\n",
       "      <td>0.0</td>\n",
       "      <td>0.0</td>\n",
       "      <td>6/15/2014</td>\n",
       "      <td>0.0</td>\n",
       "      <td>464.0</td>\n",
       "      <td>...</td>\n",
       "      <td>0</td>\n",
       "      <td>1</td>\n",
       "      <td>0</td>\n",
       "      <td>0</td>\n",
       "      <td>0</td>\n",
       "      <td>0</td>\n",
       "      <td>0</td>\n",
       "      <td>1</td>\n",
       "      <td>0</td>\n",
       "      <td>0</td>\n",
       "    </tr>\n",
       "    <tr>\n",
       "      <th>2</th>\n",
       "      <td>10476.0</td>\n",
       "      <td>1958.0</td>\n",
       "      <td>Graduation</td>\n",
       "      <td>Married</td>\n",
       "      <td>67267.0</td>\n",
       "      <td>0.0</td>\n",
       "      <td>1.0</td>\n",
       "      <td>5/13/2014</td>\n",
       "      <td>0.0</td>\n",
       "      <td>134.0</td>\n",
       "      <td>...</td>\n",
       "      <td>1</td>\n",
       "      <td>0</td>\n",
       "      <td>0</td>\n",
       "      <td>0</td>\n",
       "      <td>0</td>\n",
       "      <td>0</td>\n",
       "      <td>0</td>\n",
       "      <td>1</td>\n",
       "      <td>0</td>\n",
       "      <td>0</td>\n",
       "    </tr>\n",
       "    <tr>\n",
       "      <th>3</th>\n",
       "      <td>1386.0</td>\n",
       "      <td>1967.0</td>\n",
       "      <td>Graduation</td>\n",
       "      <td>Together</td>\n",
       "      <td>32474.0</td>\n",
       "      <td>1.0</td>\n",
       "      <td>1.0</td>\n",
       "      <td>11/5/2014</td>\n",
       "      <td>0.0</td>\n",
       "      <td>10.0</td>\n",
       "      <td>...</td>\n",
       "      <td>0</td>\n",
       "      <td>0</td>\n",
       "      <td>1</td>\n",
       "      <td>0</td>\n",
       "      <td>0</td>\n",
       "      <td>0</td>\n",
       "      <td>0</td>\n",
       "      <td>1</td>\n",
       "      <td>0</td>\n",
       "      <td>0</td>\n",
       "    </tr>\n",
       "    <tr>\n",
       "      <th>4</th>\n",
       "      <td>5371.0</td>\n",
       "      <td>1989.0</td>\n",
       "      <td>Graduation</td>\n",
       "      <td>Single</td>\n",
       "      <td>21474.0</td>\n",
       "      <td>1.0</td>\n",
       "      <td>0.0</td>\n",
       "      <td>8/4/2014</td>\n",
       "      <td>0.0</td>\n",
       "      <td>6.0</td>\n",
       "      <td>...</td>\n",
       "      <td>0</td>\n",
       "      <td>1</td>\n",
       "      <td>0</td>\n",
       "      <td>0</td>\n",
       "      <td>0</td>\n",
       "      <td>0</td>\n",
       "      <td>0</td>\n",
       "      <td>1</td>\n",
       "      <td>0</td>\n",
       "      <td>0</td>\n",
       "    </tr>\n",
       "  </tbody>\n",
       "</table>\n",
       "<p>5 rows × 35 columns</p>\n",
       "</div>"
      ],
      "text/plain": [
       "        Id  Year_Birth   Education Marital_Status   Income  Kidhome  Teenhome  \\\n",
       "0   1826.0      1970.0  Graduation       Divorced  84835.0      0.0       0.0   \n",
       "1      1.0      1961.0  Graduation         Single  57091.0      0.0       0.0   \n",
       "2  10476.0      1958.0  Graduation        Married  67267.0      0.0       1.0   \n",
       "3   1386.0      1967.0  Graduation       Together  32474.0      1.0       1.0   \n",
       "4   5371.0      1989.0  Graduation         Single  21474.0      1.0       0.0   \n",
       "\n",
       "  Dt_Customer  Recency  MntWines  ...  Married  Single  Together  Widow  YOLO  \\\n",
       "0   6/16/2014      0.0     189.0  ...        0       0         0      0     0   \n",
       "1   6/15/2014      0.0     464.0  ...        0       1         0      0     0   \n",
       "2   5/13/2014      0.0     134.0  ...        1       0         0      0     0   \n",
       "3   11/5/2014      0.0      10.0  ...        0       0         1      0     0   \n",
       "4    8/4/2014      0.0       6.0  ...        0       1         0      0     0   \n",
       "\n",
       "   2n Cycle  Basic  Graduation  Master  PhD  \n",
       "0         0      0           1       0    0  \n",
       "1         0      0           1       0    0  \n",
       "2         0      0           1       0    0  \n",
       "3         0      0           1       0    0  \n",
       "4         0      0           1       0    0  \n",
       "\n",
       "[5 rows x 35 columns]"
      ]
     },
     "execution_count": 17,
     "metadata": {},
     "output_type": "execute_result"
    }
   ],
   "source": [
    "pre_df_lr = pd.concat([df_lr, marital,education], axis = 1)\n",
    "pre_df_lr.head()"
   ]
  },
  {
   "cell_type": "markdown",
   "id": "07456710",
   "metadata": {},
   "source": [
    "To finally create the dataset that we are going to use on the different ML algorithms. Just quitted the categorial variables."
   ]
  },
  {
   "cell_type": "code",
   "execution_count": 18,
   "id": "34b896db",
   "metadata": {
    "scrolled": true
   },
   "outputs": [
    {
     "data": {
      "text/html": [
       "<div>\n",
       "<style scoped>\n",
       "    .dataframe tbody tr th:only-of-type {\n",
       "        vertical-align: middle;\n",
       "    }\n",
       "\n",
       "    .dataframe tbody tr th {\n",
       "        vertical-align: top;\n",
       "    }\n",
       "\n",
       "    .dataframe thead th {\n",
       "        text-align: right;\n",
       "    }\n",
       "</style>\n",
       "<table border=\"1\" class=\"dataframe\">\n",
       "  <thead>\n",
       "    <tr style=\"text-align: right;\">\n",
       "      <th></th>\n",
       "      <th>Year_Birth</th>\n",
       "      <th>Income</th>\n",
       "      <th>Kidhome</th>\n",
       "      <th>Teenhome</th>\n",
       "      <th>Recency</th>\n",
       "      <th>MntWines</th>\n",
       "      <th>MntFruits</th>\n",
       "      <th>MntMeatProducts</th>\n",
       "      <th>MntFishProducts</th>\n",
       "      <th>MntSweetProducts</th>\n",
       "      <th>...</th>\n",
       "      <th>Married</th>\n",
       "      <th>Single</th>\n",
       "      <th>Together</th>\n",
       "      <th>Widow</th>\n",
       "      <th>YOLO</th>\n",
       "      <th>2n Cycle</th>\n",
       "      <th>Basic</th>\n",
       "      <th>Graduation</th>\n",
       "      <th>Master</th>\n",
       "      <th>PhD</th>\n",
       "    </tr>\n",
       "  </thead>\n",
       "  <tbody>\n",
       "    <tr>\n",
       "      <th>0</th>\n",
       "      <td>1970.0</td>\n",
       "      <td>84835.0</td>\n",
       "      <td>0.0</td>\n",
       "      <td>0.0</td>\n",
       "      <td>0.0</td>\n",
       "      <td>189.0</td>\n",
       "      <td>104.0</td>\n",
       "      <td>379.0</td>\n",
       "      <td>111.0</td>\n",
       "      <td>189.0</td>\n",
       "      <td>...</td>\n",
       "      <td>0</td>\n",
       "      <td>0</td>\n",
       "      <td>0</td>\n",
       "      <td>0</td>\n",
       "      <td>0</td>\n",
       "      <td>0</td>\n",
       "      <td>0</td>\n",
       "      <td>1</td>\n",
       "      <td>0</td>\n",
       "      <td>0</td>\n",
       "    </tr>\n",
       "    <tr>\n",
       "      <th>1</th>\n",
       "      <td>1961.0</td>\n",
       "      <td>57091.0</td>\n",
       "      <td>0.0</td>\n",
       "      <td>0.0</td>\n",
       "      <td>0.0</td>\n",
       "      <td>464.0</td>\n",
       "      <td>5.0</td>\n",
       "      <td>64.0</td>\n",
       "      <td>7.0</td>\n",
       "      <td>0.0</td>\n",
       "      <td>...</td>\n",
       "      <td>0</td>\n",
       "      <td>1</td>\n",
       "      <td>0</td>\n",
       "      <td>0</td>\n",
       "      <td>0</td>\n",
       "      <td>0</td>\n",
       "      <td>0</td>\n",
       "      <td>1</td>\n",
       "      <td>0</td>\n",
       "      <td>0</td>\n",
       "    </tr>\n",
       "    <tr>\n",
       "      <th>2</th>\n",
       "      <td>1958.0</td>\n",
       "      <td>67267.0</td>\n",
       "      <td>0.0</td>\n",
       "      <td>1.0</td>\n",
       "      <td>0.0</td>\n",
       "      <td>134.0</td>\n",
       "      <td>11.0</td>\n",
       "      <td>59.0</td>\n",
       "      <td>15.0</td>\n",
       "      <td>2.0</td>\n",
       "      <td>...</td>\n",
       "      <td>1</td>\n",
       "      <td>0</td>\n",
       "      <td>0</td>\n",
       "      <td>0</td>\n",
       "      <td>0</td>\n",
       "      <td>0</td>\n",
       "      <td>0</td>\n",
       "      <td>1</td>\n",
       "      <td>0</td>\n",
       "      <td>0</td>\n",
       "    </tr>\n",
       "    <tr>\n",
       "      <th>3</th>\n",
       "      <td>1967.0</td>\n",
       "      <td>32474.0</td>\n",
       "      <td>1.0</td>\n",
       "      <td>1.0</td>\n",
       "      <td>0.0</td>\n",
       "      <td>10.0</td>\n",
       "      <td>0.0</td>\n",
       "      <td>1.0</td>\n",
       "      <td>0.0</td>\n",
       "      <td>0.0</td>\n",
       "      <td>...</td>\n",
       "      <td>0</td>\n",
       "      <td>0</td>\n",
       "      <td>1</td>\n",
       "      <td>0</td>\n",
       "      <td>0</td>\n",
       "      <td>0</td>\n",
       "      <td>0</td>\n",
       "      <td>1</td>\n",
       "      <td>0</td>\n",
       "      <td>0</td>\n",
       "    </tr>\n",
       "    <tr>\n",
       "      <th>4</th>\n",
       "      <td>1989.0</td>\n",
       "      <td>21474.0</td>\n",
       "      <td>1.0</td>\n",
       "      <td>0.0</td>\n",
       "      <td>0.0</td>\n",
       "      <td>6.0</td>\n",
       "      <td>16.0</td>\n",
       "      <td>24.0</td>\n",
       "      <td>11.0</td>\n",
       "      <td>0.0</td>\n",
       "      <td>...</td>\n",
       "      <td>0</td>\n",
       "      <td>1</td>\n",
       "      <td>0</td>\n",
       "      <td>0</td>\n",
       "      <td>0</td>\n",
       "      <td>0</td>\n",
       "      <td>0</td>\n",
       "      <td>1</td>\n",
       "      <td>0</td>\n",
       "      <td>0</td>\n",
       "    </tr>\n",
       "  </tbody>\n",
       "</table>\n",
       "<p>5 rows × 31 columns</p>\n",
       "</div>"
      ],
      "text/plain": [
       "   Year_Birth   Income  Kidhome  Teenhome  Recency  MntWines  MntFruits  \\\n",
       "0      1970.0  84835.0      0.0       0.0      0.0     189.0      104.0   \n",
       "1      1961.0  57091.0      0.0       0.0      0.0     464.0        5.0   \n",
       "2      1958.0  67267.0      0.0       1.0      0.0     134.0       11.0   \n",
       "3      1967.0  32474.0      1.0       1.0      0.0      10.0        0.0   \n",
       "4      1989.0  21474.0      1.0       0.0      0.0       6.0       16.0   \n",
       "\n",
       "   MntMeatProducts  MntFishProducts  MntSweetProducts  ...  Married  Single  \\\n",
       "0            379.0            111.0             189.0  ...        0       0   \n",
       "1             64.0              7.0               0.0  ...        0       1   \n",
       "2             59.0             15.0               2.0  ...        1       0   \n",
       "3              1.0              0.0               0.0  ...        0       0   \n",
       "4             24.0             11.0               0.0  ...        0       1   \n",
       "\n",
       "   Together  Widow  YOLO  2n Cycle  Basic  Graduation  Master  PhD  \n",
       "0         0      0     0         0      0           1       0    0  \n",
       "1         0      0     0         0      0           1       0    0  \n",
       "2         0      0     0         0      0           1       0    0  \n",
       "3         1      0     0         0      0           1       0    0  \n",
       "4         0      0     0         0      0           1       0    0  \n",
       "\n",
       "[5 rows x 31 columns]"
      ]
     },
     "execution_count": 18,
     "metadata": {},
     "output_type": "execute_result"
    }
   ],
   "source": [
    "final_df_lr = pre_df_lr.drop([\"Id\",\"Marital_Status\", \"Education\", \"Dt_Customer\"], axis = 1)\n",
    "final_df_lr.head()"
   ]
  },
  {
   "cell_type": "markdown",
   "id": "a2617831",
   "metadata": {},
   "source": [
    "# MACHINE LEARNING"
   ]
  },
  {
   "cell_type": "markdown",
   "id": "7012997d",
   "metadata": {},
   "source": [
    "## Splitting the dataset into training and testing datasets"
   ]
  },
  {
   "cell_type": "markdown",
   "id": "e576dec4",
   "metadata": {},
   "source": [
    "Note: We noticed three N/A values on the Income columns. We just drop them."
   ]
  },
  {
   "cell_type": "code",
   "execution_count": 19,
   "id": "df509217",
   "metadata": {},
   "outputs": [],
   "source": [
    "final_df_lr = final_df_lr.dropna()\n",
    "X = final_df_lr.drop(['Income'], axis = 1)\n",
    "y = final_df_lr['Income']\n",
    "from sklearn.model_selection import train_test_split\n",
    "X_train, X_test, y_train, y_test = train_test_split(X, y, test_size=0.30, random_state = 101) "
   ]
  },
  {
   "cell_type": "markdown",
   "id": "f01c7c27",
   "metadata": {},
   "source": [
    "## Supervised Regression Model (Linear Regression)"
   ]
  },
  {
   "cell_type": "markdown",
   "id": "d8e7df51",
   "metadata": {},
   "source": [
    "Training"
   ]
  },
  {
   "cell_type": "code",
   "execution_count": 49,
   "id": "39eaecda",
   "metadata": {},
   "outputs": [],
   "source": [
    "from sklearn.linear_model import LinearRegression\n",
    "lm = LinearRegression().fit(X_train,y_train)"
   ]
  },
  {
   "cell_type": "markdown",
   "id": "f6ebc25a",
   "metadata": {},
   "source": [
    "Making predictions"
   ]
  },
  {
   "cell_type": "code",
   "execution_count": 50,
   "id": "61dc1778",
   "metadata": {},
   "outputs": [],
   "source": [
    "final_df_lr_pre = lm.predict(X_test)"
   ]
  },
  {
   "cell_type": "markdown",
   "id": "0c713ac1",
   "metadata": {},
   "source": [
    "Getting the results of the model."
   ]
  },
  {
   "cell_type": "code",
   "execution_count": 56,
   "id": "cebae730",
   "metadata": {},
   "outputs": [
    {
     "name": "stdout",
     "output_type": "stream",
     "text": [
      "MSE:  85927186.7479798\n",
      "RMSE:  9269.691836732212\n",
      "MAE:  7050.322275807919\n",
      "Variance Score:  79.94 %\n"
     ]
    }
   ],
   "source": [
    "from sklearn import metrics\n",
    "from sklearn.metrics import mean_squared_error, mean_absolute_error\n",
    "print(\"MSE: \", metrics.mean_squared_error(y_test, final_df_lr_pre))\n",
    "print(\"RMSE: \", np.sqrt(metrics.mean_squared_error(y_test, final_df_lr_pre)))\n",
    "print(\"MAE: \", metrics.mean_absolute_error(y_test, final_df_lr_pre))\n",
    "print(\"Variance Score: \", round(100*(metrics.explained_variance_score(y_test, final_df_lr_pre)),2),\"%\")"
   ]
  },
  {
   "cell_type": "markdown",
   "id": "6824fd48",
   "metadata": {},
   "source": [
    "Note:\n",
    "\n",
    "MSE: It is the difference between the real value and the predicted one. This metric is sensitive for outliers. For that reason, the RMSE is better. It is just use the sqrt of this value.\n",
    "\n",
    "MAE: It is the average absolute difference between predicted and actual values. In this case, it has a better result because this metrics is not too sensitive with outliers.\n",
    "\n",
    "Variance Score: It tells you how well our model is performing (from 0 to 100, being higher the best result)."
   ]
  },
  {
   "cell_type": "markdown",
   "id": "17bfc46a",
   "metadata": {},
   "source": [
    "Comparation between the first five predictions vs the real value."
   ]
  },
  {
   "cell_type": "code",
   "execution_count": 23,
   "id": "15bdf072",
   "metadata": {},
   "outputs": [
    {
     "data": {
      "text/html": [
       "<div>\n",
       "<style scoped>\n",
       "    .dataframe tbody tr th:only-of-type {\n",
       "        vertical-align: middle;\n",
       "    }\n",
       "\n",
       "    .dataframe tbody tr th {\n",
       "        vertical-align: top;\n",
       "    }\n",
       "\n",
       "    .dataframe thead tr th {\n",
       "        text-align: left;\n",
       "    }\n",
       "</style>\n",
       "<table border=\"1\" class=\"dataframe\">\n",
       "  <thead>\n",
       "    <tr>\n",
       "      <th></th>\n",
       "      <th>Income</th>\n",
       "      <th>Real Value</th>\n",
       "    </tr>\n",
       "  </thead>\n",
       "  <tbody>\n",
       "    <tr>\n",
       "      <th>0</th>\n",
       "      <td>67272.0</td>\n",
       "      <td>64209.678459</td>\n",
       "    </tr>\n",
       "    <tr>\n",
       "      <th>1</th>\n",
       "      <td>39228.0</td>\n",
       "      <td>35571.472898</td>\n",
       "    </tr>\n",
       "    <tr>\n",
       "      <th>2</th>\n",
       "      <td>76800.0</td>\n",
       "      <td>61413.675550</td>\n",
       "    </tr>\n",
       "    <tr>\n",
       "      <th>3</th>\n",
       "      <td>33569.0</td>\n",
       "      <td>28613.963774</td>\n",
       "    </tr>\n",
       "    <tr>\n",
       "      <th>4</th>\n",
       "      <td>76068.0</td>\n",
       "      <td>60624.217057</td>\n",
       "    </tr>\n",
       "  </tbody>\n",
       "</table>\n",
       "</div>"
      ],
      "text/plain": [
       "    Income    Real Value\n",
       "0  67272.0  64209.678459\n",
       "1  39228.0  35571.472898\n",
       "2  76800.0  61413.675550\n",
       "3  33569.0  28613.963774\n",
       "4  76068.0  60624.217057"
      ]
     },
     "execution_count": 23,
     "metadata": {},
     "output_type": "execute_result"
    }
   ],
   "source": [
    "crosstable = pd.DataFrame(final_df_lr_pre, y_test, columns = [[\"Real Value\"]])\n",
    "crosstable.reset_index().head()"
   ]
  },
  {
   "cell_type": "markdown",
   "id": "a1c53c1f",
   "metadata": {},
   "source": [
    "Plotting the model to have a better visual understanding. We can notice the outliers better."
   ]
  },
  {
   "cell_type": "code",
   "execution_count": 63,
   "id": "090c6b93",
   "metadata": {},
   "outputs": [
    {
     "data": {
      "text/plain": [
       "Text(0, 0.5, 'Predictions')"
      ]
     },
     "execution_count": 63,
     "metadata": {},
     "output_type": "execute_result"
    },
    {
     "data": {
      "image/png": "[encoded data removed]",
      "text/plain": [
       "<Figure size 792x504 with 1 Axes>"
      ]
     },
     "metadata": {
      "needs_background": "light"
     },
     "output_type": "display_data"
    }
   ],
   "source": [
    "plt.figure(figsize=(11,7))\n",
    "plt.scatter(y_test, final_df_lr_pre)\n",
    "plt.xlabel(\"Y Test (True Values)\")\n",
    "plt.ylabel(\"Predictions\")"
   ]
  },
  {
   "cell_type": "markdown",
   "id": "9a132d16",
   "metadata": {},
   "source": [
    "## Supervised Classification Model (Random Forest)"
   ]
  },
  {
   "cell_type": "code",
   "execution_count": 25,
   "id": "d998e6f5",
   "metadata": {},
   "outputs": [],
   "source": [
    "from sklearn.ensemble import RandomForestClassifier\n",
    "from sklearn.model_selection import cross_val_score"
   ]
  },
  {
   "cell_type": "markdown",
   "id": "ce31887e",
   "metadata": {},
   "source": [
    "We are going to make a loop to see which is the best number of trees to use them as a feature. We can notice that piece of information because it has the highest mean. Because we want the maximum prediction score possible."
   ]
  },
  {
   "cell_type": "code",
   "execution_count": 26,
   "id": "e291ad7c",
   "metadata": {},
   "outputs": [
    {
     "name": "stdout",
     "output_type": "stream",
     "text": [
      "Number of Trees: 1, Mean Accuracy: 0.07378640776699028\n",
      "Number of Trees: 2, Mean Accuracy: 0.07831715210355986\n",
      "Number of Trees: 3, Mean Accuracy: 0.09514563106796117\n",
      "Number of Trees: 4, Mean Accuracy: 0.1087378640776699\n",
      "Number of Trees: 5, Mean Accuracy: 0.11779935275080906\n",
      "Number of Trees: 10, Mean Accuracy: 0.12880258899676375\n",
      "Number of Trees: 15, Mean Accuracy: 0.12815533980582525\n",
      "Number of Trees: 20, Mean Accuracy: 0.12880258899676375\n",
      "Number of Trees: 25, Mean Accuracy: 0.12880258899676375\n",
      "Number of Trees: 30, Mean Accuracy: 0.13009708737864076\n",
      "Number of Trees: 35, Mean Accuracy: 0.12944983818770228\n",
      "Number of Trees: 40, Mean Accuracy: 0.12880258899676375\n",
      "Number of Trees: 45, Mean Accuracy: 0.13009708737864076\n",
      "Number of Trees: 50, Mean Accuracy: 0.12944983818770225\n",
      "Number of Trees: 100, Mean Accuracy: 0.1307443365695793\n"
     ]
    }
   ],
   "source": [
    "rf = RandomForestClassifier()\n",
    "\n",
    "n_estimators_ = [1,2,3,4,5,10,15,20,25,30,35,40,45,50,100]\n",
    "\n",
    "for n in n_estimators_:\n",
    "    rf.n_estimators = n\n",
    "    scores = cross_val_score(rf, X_train, y_train)\n",
    "    print(f\"Number of Trees: {n}, Mean Accuracy: {np.mean(scores)}\")"
   ]
  },
  {
   "cell_type": "markdown",
   "id": "2ef61a9e",
   "metadata": {},
   "source": [
    "With the previous higher Mean Accuracy, we will use the number of three as parameter to train our model."
   ]
  },
  {
   "cell_type": "code",
   "execution_count": 57,
   "id": "eec32356",
   "metadata": {},
   "outputs": [
    {
     "data": {
      "text/plain": [
       "RandomForestClassifier(n_estimators=45)"
      ]
     },
     "execution_count": 57,
     "metadata": {},
     "output_type": "execute_result"
    }
   ],
   "source": [
    "rf = RandomForestClassifier(n_estimators=45)\n",
    "rf.fit(X_train, y_train)"
   ]
  },
  {
   "cell_type": "markdown",
   "id": "f5065354",
   "metadata": {},
   "source": [
    "Making predictions"
   ]
  },
  {
   "cell_type": "code",
   "execution_count": 58,
   "id": "ade32a50",
   "metadata": {},
   "outputs": [],
   "source": [
    "rf_pre = rf.predict(X_test)"
   ]
  },
  {
   "cell_type": "markdown",
   "id": "006be7bf",
   "metadata": {},
   "source": [
    "Performing of the model"
   ]
  },
  {
   "cell_type": "code",
   "execution_count": 61,
   "id": "5e06ea71",
   "metadata": {},
   "outputs": [
    {
     "name": "stdout",
     "output_type": "stream",
     "text": [
      "MSE: 152663918.90497738\n",
      "RMSE:  12355.724135192457\n",
      "MAE: 8759.746606334842\n",
      "Variance Score:  66.15 %\n"
     ]
    }
   ],
   "source": [
    "mse = mean_squared_error(y_test, rf_pre)\n",
    "mae = mean_absolute_error(y_test, rf_pre)\n",
    "\n",
    "print(\"MSE:\", mse)\n",
    "print(\"RMSE: \", np.sqrt(mse))\n",
    "print(\"MAE:\", mae)\n",
    "print(\"Variance Score: \", round(100*(metrics.explained_variance_score(y_test, rf_pre)),2),\"%\")"
   ]
  },
  {
   "cell_type": "markdown",
   "id": "c0d290dc",
   "metadata": {},
   "source": [
    "Note:\n",
    "\n",
    "MSE: It is the difference between the real value and the predicted one. This metric is sensitive for outliers. For that reason, the RMSE is better. It is just use the sqrt of this value.\n",
    "\n",
    "MAE: It is the average absolute difference between predicted and actual values. In this case, it has a better result because this metrics is not too sensitive with outliers.\n",
    "\n",
    "Variance Score: It tells you how well our model is performing (from 0 to 100, being higher the best result)."
   ]
  },
  {
   "cell_type": "markdown",
   "id": "392e099e",
   "metadata": {},
   "source": [
    "Comparation between the first five predictions vs the real value."
   ]
  },
  {
   "cell_type": "code",
   "execution_count": 46,
   "id": "83e32de4",
   "metadata": {},
   "outputs": [
    {
     "data": {
      "text/html": [
       "<div>\n",
       "<style scoped>\n",
       "    .dataframe tbody tr th:only-of-type {\n",
       "        vertical-align: middle;\n",
       "    }\n",
       "\n",
       "    .dataframe tbody tr th {\n",
       "        vertical-align: top;\n",
       "    }\n",
       "\n",
       "    .dataframe thead tr th {\n",
       "        text-align: left;\n",
       "    }\n",
       "</style>\n",
       "<table border=\"1\" class=\"dataframe\">\n",
       "  <thead>\n",
       "    <tr>\n",
       "      <th></th>\n",
       "      <th>Income</th>\n",
       "      <th>Real Value</th>\n",
       "    </tr>\n",
       "  </thead>\n",
       "  <tbody>\n",
       "    <tr>\n",
       "      <th>0</th>\n",
       "      <td>67272.0</td>\n",
       "      <td>66653.0</td>\n",
       "    </tr>\n",
       "    <tr>\n",
       "      <th>1</th>\n",
       "      <td>39228.0</td>\n",
       "      <td>34109.0</td>\n",
       "    </tr>\n",
       "    <tr>\n",
       "      <th>2</th>\n",
       "      <td>76800.0</td>\n",
       "      <td>72635.0</td>\n",
       "    </tr>\n",
       "    <tr>\n",
       "      <th>3</th>\n",
       "      <td>33569.0</td>\n",
       "      <td>35860.0</td>\n",
       "    </tr>\n",
       "    <tr>\n",
       "      <th>4</th>\n",
       "      <td>76068.0</td>\n",
       "      <td>63342.0</td>\n",
       "    </tr>\n",
       "  </tbody>\n",
       "</table>\n",
       "</div>"
      ],
      "text/plain": [
       "    Income Real Value\n",
       "0  67272.0    66653.0\n",
       "1  39228.0    34109.0\n",
       "2  76800.0    72635.0\n",
       "3  33569.0    35860.0\n",
       "4  76068.0    63342.0"
      ]
     },
     "execution_count": 46,
     "metadata": {},
     "output_type": "execute_result"
    }
   ],
   "source": [
    "crosstable = pd.DataFrame(rf_pre, y_test, columns = [[\"Real Value\"]])\n",
    "crosstable.reset_index().head()"
   ]
  },
  {
   "cell_type": "markdown",
   "id": "1ca07533",
   "metadata": {},
   "source": [
    "Plotting the model to have a better visual understanding. We can notice the outliers better."
   ]
  },
  {
   "cell_type": "code",
   "execution_count": 64,
   "id": "b6f2c80c",
   "metadata": {},
   "outputs": [
    {
     "data": {
      "text/plain": [
       "Text(0, 0.5, 'Predictions')"
      ]
     },
     "execution_count": 64,
     "metadata": {},
     "output_type": "execute_result"
    },
    {
     "data": {
      "image/png": "[encoded data removed]",
      "text/plain": [
       "<Figure size 792x504 with 1 Axes>"
      ]
     },
     "metadata": {
      "needs_background": "light"
     },
     "output_type": "display_data"
    }
   ],
   "source": [
    "plt.figure(figsize=(11,7))\n",
    "plt.scatter(y_test, rf_pre)\n",
    "plt.xlabel(\"Y Test (True Values)\")\n",
    "plt.ylabel(\"Predictions\")"
   ]
  },
  {
   "cell_type": "markdown",
   "id": "e0bb1e84",
   "metadata": {},
   "source": [
    "## CONCLUSIONS FOR THE SUPERVISED MACHINE LEARNING MODELS"
   ]
  },
  {
   "cell_type": "markdown",
   "id": "26d6f4aa",
   "metadata": {},
   "source": [
    "First sight we can notice a better performance of the Linear Regression against the Random Forest. This is because Linear Regression works better predicting continuous variables and Random Forest works better classifing values."
   ]
  },
  {
   "cell_type": "code",
   "execution_count": 62,
   "id": "8331c734",
   "metadata": {},
   "outputs": [
    {
     "name": "stdout",
     "output_type": "stream",
     "text": [
      "Linear Regression Results:\n",
      "MSE:  85927186.7479798\n",
      "RMSE:  9269.691836732212\n",
      "MAE:  7050.322275807919\n",
      "Variance Score:  79.94 %\n",
      "**********************************\n",
      "Random Forest Results:\n",
      "MSE: 152663918.90497738\n",
      "RMSE:  12355.724135192457\n",
      "MAE: 8759.746606334842\n",
      "Variance Score:  66.15 %\n"
     ]
    }
   ],
   "source": [
    "print(\"Linear Regression Results:\")\n",
    "print(\"MSE: \", metrics.mean_squared_error(y_test, final_df_lr_pre))\n",
    "print(\"RMSE: \", np.sqrt(metrics.mean_squared_error(y_test, final_df_lr_pre)))\n",
    "print(\"MAE: \", metrics.mean_absolute_error(y_test, final_df_lr_pre))\n",
    "print(\"Variance Score: \", round(100*(metrics.explained_variance_score(y_test, final_df_lr_pre)),2),\"%\")\n",
    "print(\"**********************************\")\n",
    "print(\"Random Forest Results:\")\n",
    "print(\"MSE:\", mse)\n",
    "print(\"RMSE: \", np.sqrt(mse))\n",
    "print(\"MAE:\", mae)\n",
    "print(\"Variance Score: \", round(100*(metrics.explained_variance_score(y_test, rf_pre)),2),\"%\")"
   ]
  },
  {
   "cell_type": "markdown",
   "id": "613f1a8f",
   "metadata": {},
   "source": [
    "## Unsupervised Clustering (PCA)"
   ]
  },
  {
   "cell_type": "code",
   "execution_count": 33,
   "id": "6e8bc1c3",
   "metadata": {},
   "outputs": [],
   "source": [
    "from sklearn.decomposition import PCA"
   ]
  },
  {
   "cell_type": "markdown",
   "id": "7bfa6d6a",
   "metadata": {},
   "source": [
    "Training the model"
   ]
  },
  {
   "cell_type": "code",
   "execution_count": 34,
   "id": "9445bfbd",
   "metadata": {},
   "outputs": [
    {
     "data": {
      "text/plain": [
       "(2208, 2)"
      ]
     },
     "execution_count": 34,
     "metadata": {},
     "output_type": "execute_result"
    }
   ],
   "source": [
    "pca = PCA(n_components = 2)\n",
    "pca.fit(final_df_lr)\n",
    "x_pca = pca.transform(final_df_lr)\n",
    "x_pca.shape"
   ]
  },
  {
   "cell_type": "markdown",
   "id": "d7e4cce1",
   "metadata": {},
   "source": [
    "Analysing all the important components for this PCA model."
   ]
  },
  {
   "cell_type": "code",
   "execution_count": 35,
   "id": "6b086823",
   "metadata": {},
   "outputs": [
    {
     "data": {
      "text/html": [
       "<div>\n",
       "<style scoped>\n",
       "    .dataframe tbody tr th:only-of-type {\n",
       "        vertical-align: middle;\n",
       "    }\n",
       "\n",
       "    .dataframe tbody tr th {\n",
       "        vertical-align: top;\n",
       "    }\n",
       "\n",
       "    .dataframe thead th {\n",
       "        text-align: right;\n",
       "    }\n",
       "</style>\n",
       "<table border=\"1\" class=\"dataframe\">\n",
       "  <thead>\n",
       "    <tr style=\"text-align: right;\">\n",
       "      <th></th>\n",
       "      <th>Year_Birth</th>\n",
       "      <th>Income</th>\n",
       "      <th>Kidhome</th>\n",
       "      <th>Teenhome</th>\n",
       "      <th>Recency</th>\n",
       "      <th>MntWines</th>\n",
       "      <th>MntFruits</th>\n",
       "      <th>MntMeatProducts</th>\n",
       "      <th>MntFishProducts</th>\n",
       "      <th>MntSweetProducts</th>\n",
       "      <th>...</th>\n",
       "      <th>Married</th>\n",
       "      <th>Single</th>\n",
       "      <th>Together</th>\n",
       "      <th>Widow</th>\n",
       "      <th>YOLO</th>\n",
       "      <th>2n Cycle</th>\n",
       "      <th>Basic</th>\n",
       "      <th>Graduation</th>\n",
       "      <th>Master</th>\n",
       "      <th>PhD</th>\n",
       "    </tr>\n",
       "  </thead>\n",
       "  <tbody>\n",
       "    <tr>\n",
       "      <th>0</th>\n",
       "      <td>-0.000122</td>\n",
       "      <td>0.999899</td>\n",
       "      <td>-0.000014</td>\n",
       "      <td>0.000001</td>\n",
       "      <td>0.000008</td>\n",
       "      <td>0.011903</td>\n",
       "      <td>0.001036</td>\n",
       "      <td>0.007390</td>\n",
       "      <td>0.001461</td>\n",
       "      <td>0.001103</td>\n",
       "      <td>...</td>\n",
       "      <td>-2.553843e-07</td>\n",
       "      <td>-3.174115e-07</td>\n",
       "      <td>-1.453341e-08</td>\n",
       "      <td>3.890591e-07</td>\n",
       "      <td>-6.761929e-09</td>\n",
       "      <td>-8.450067e-07</td>\n",
       "      <td>-0.000002</td>\n",
       "      <td>4.115716e-07</td>\n",
       "      <td>3.828476e-07</td>\n",
       "      <td>0.000002</td>\n",
       "    </tr>\n",
       "    <tr>\n",
       "      <th>1</th>\n",
       "      <td>-0.000638</td>\n",
       "      <td>0.013151</td>\n",
       "      <td>0.000394</td>\n",
       "      <td>0.000222</td>\n",
       "      <td>-0.002601</td>\n",
       "      <td>-0.980510</td>\n",
       "      <td>-0.004502</td>\n",
       "      <td>-0.193139</td>\n",
       "      <td>-0.007294</td>\n",
       "      <td>-0.001404</td>\n",
       "      <td>...</td>\n",
       "      <td>2.128356e-05</td>\n",
       "      <td>9.171919e-06</td>\n",
       "      <td>-2.039124e-05</td>\n",
       "      <td>-2.820247e-07</td>\n",
       "      <td>-5.813740e-07</td>\n",
       "      <td>9.382483e-05</td>\n",
       "      <td>-0.000040</td>\n",
       "      <td>1.998070e-04</td>\n",
       "      <td>-4.085450e-05</td>\n",
       "      <td>-0.000213</td>\n",
       "    </tr>\n",
       "  </tbody>\n",
       "</table>\n",
       "<p>2 rows × 31 columns</p>\n",
       "</div>"
      ],
      "text/plain": [
       "   Year_Birth    Income   Kidhome  Teenhome   Recency  MntWines  MntFruits  \\\n",
       "0   -0.000122  0.999899 -0.000014  0.000001  0.000008  0.011903   0.001036   \n",
       "1   -0.000638  0.013151  0.000394  0.000222 -0.002601 -0.980510  -0.004502   \n",
       "\n",
       "   MntMeatProducts  MntFishProducts  MntSweetProducts  ...       Married  \\\n",
       "0         0.007390         0.001461          0.001103  ... -2.553843e-07   \n",
       "1        -0.193139        -0.007294         -0.001404  ...  2.128356e-05   \n",
       "\n",
       "         Single      Together         Widow          YOLO      2n Cycle  \\\n",
       "0 -3.174115e-07 -1.453341e-08  3.890591e-07 -6.761929e-09 -8.450067e-07   \n",
       "1  9.171919e-06 -2.039124e-05 -2.820247e-07 -5.813740e-07  9.382483e-05   \n",
       "\n",
       "      Basic    Graduation        Master       PhD  \n",
       "0 -0.000002  4.115716e-07  3.828476e-07  0.000002  \n",
       "1 -0.000040  1.998070e-04 -4.085450e-05 -0.000213  \n",
       "\n",
       "[2 rows x 31 columns]"
      ]
     },
     "execution_count": 35,
     "metadata": {},
     "output_type": "execute_result"
    }
   ],
   "source": [
    "pca_comp = pd.DataFrame (pca.components_, columns = final_df_lr.columns)\n",
    "pca_comp"
   ]
  },
  {
   "cell_type": "markdown",
   "id": "bc0b2326",
   "metadata": {},
   "source": [
    "Plotting a heatmap where we can see the most important components depending on each component."
   ]
  },
  {
   "cell_type": "code",
   "execution_count": 65,
   "id": "816bb222",
   "metadata": {},
   "outputs": [
    {
     "data": {
      "text/plain": [
       "<AxesSubplot:>"
      ]
     },
     "execution_count": 65,
     "metadata": {},
     "output_type": "execute_result"
    },
    {
     "data": {
      "image/png": "[encoded data removed]",
      "text/plain": [
       "<Figure size 792x504 with 2 Axes>"
      ]
     },
     "metadata": {
      "needs_background": "light"
     },
     "output_type": "display_data"
    }
   ],
   "source": [
    "plt.figure(figsize=(11,7))\n",
    "sns.heatmap(pca_comp, cmap = \"inferno\")"
   ]
  },
  {
   "cell_type": "markdown",
   "id": "70470c4b",
   "metadata": {},
   "source": [
    "## UNSUPERVISED CONCLUSIONS"
   ]
  },
  {
   "cell_type": "markdown",
   "id": "fdbbd0c3",
   "metadata": {},
   "source": [
    "The Machine Learning is separating our dataset into two groups:\n",
    "\n",
    "Income group: So we can create marketing strategies to improve the sales like sending emails with promotions for certain items.\n",
    "\n",
    "No wine, meat group nor gold items: This is a insight that customers dont use to buy these items, so maybe have these products away. "
   ]
  }
 ],
 "metadata": {
  "kernelspec": {
   "display_name": "Python 3 (ipykernel)",
   "language": "python",
   "name": "python3"
  },
  "language_info": {
   "codemirror_mode": {
    "name": "ipython",
    "version": 3
   },
   "file_extension": ".py",
   "mimetype": "text/x-python",
   "name": "python",
   "nbconvert_exporter": "python",
   "pygments_lexer": "ipython3",
   "version": "3.9.7"
  }
 },
 "nbformat": 4,
 "nbformat_minor": 5
}
