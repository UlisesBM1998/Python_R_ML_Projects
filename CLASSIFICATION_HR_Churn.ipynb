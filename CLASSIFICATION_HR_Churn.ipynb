{
 "cells": [
  {
   "cell_type": "markdown",
   "id": "29304df2",
   "metadata": {},
   "source": [
    "# INTRODUCTION"
   ]
  },
  {
   "cell_type": "markdown",
   "id": "2bfe23c7",
   "metadata": {},
   "source": [
    "With this HR dataset about employees who left the company, we will figure out if somehow we can predict if a employee is going to quit, this with the purpuse of improving the company's hiring process and saving expenses too."
   ]
  },
  {
   "cell_type": "markdown",
   "id": "31d9eea2",
   "metadata": {},
   "source": [
    "# IMPORTING LIBRARIES AND THE DATASET"
   ]
  },
  {
   "cell_type": "code",
   "execution_count": 1,
   "id": "94daaf66",
   "metadata": {},
   "outputs": [],
   "source": [
    "import numpy as np\n",
    "import pandas as pd\n",
    "\n",
    "import matplotlib.pyplot as plt\n",
    "import seaborn as sns\n",
    "\n",
    "import warnings\n",
    "warnings.filterwarnings(\"ignore\")\n",
    "\n",
    "%matplotlib inline"
   ]
  },
  {
   "cell_type": "code",
   "execution_count": 2,
   "id": "c0cdba16",
   "metadata": {
    "scrolled": true
   },
   "outputs": [
    {
     "data": {
      "text/html": [
       "<div>\n",
       "<style scoped>\n",
       "    .dataframe tbody tr th:only-of-type {\n",
       "        vertical-align: middle;\n",
       "    }\n",
       "\n",
       "    .dataframe tbody tr th {\n",
       "        vertical-align: top;\n",
       "    }\n",
       "\n",
       "    .dataframe thead th {\n",
       "        text-align: right;\n",
       "    }\n",
       "</style>\n",
       "<table border=\"1\" class=\"dataframe\">\n",
       "  <thead>\n",
       "    <tr style=\"text-align: right;\">\n",
       "      <th></th>\n",
       "      <th>satisfaction_level</th>\n",
       "      <th>last_evaluation_rating</th>\n",
       "      <th>projects_worked_on</th>\n",
       "      <th>average_montly_hours</th>\n",
       "      <th>time_spend_company</th>\n",
       "      <th>Work_accident</th>\n",
       "      <th>promotion_last_5years</th>\n",
       "      <th>Department</th>\n",
       "      <th>salary</th>\n",
       "      <th>Attrition</th>\n",
       "    </tr>\n",
       "  </thead>\n",
       "  <tbody>\n",
       "    <tr>\n",
       "      <th>0</th>\n",
       "      <td>3.8</td>\n",
       "      <td>5.3</td>\n",
       "      <td>3</td>\n",
       "      <td>167</td>\n",
       "      <td>3</td>\n",
       "      <td>0</td>\n",
       "      <td>0</td>\n",
       "      <td>sales</td>\n",
       "      <td>low</td>\n",
       "      <td>1</td>\n",
       "    </tr>\n",
       "    <tr>\n",
       "      <th>1</th>\n",
       "      <td>8.0</td>\n",
       "      <td>8.6</td>\n",
       "      <td>6</td>\n",
       "      <td>272</td>\n",
       "      <td>6</td>\n",
       "      <td>0</td>\n",
       "      <td>0</td>\n",
       "      <td>sales</td>\n",
       "      <td>medium</td>\n",
       "      <td>1</td>\n",
       "    </tr>\n",
       "    <tr>\n",
       "      <th>2</th>\n",
       "      <td>1.1</td>\n",
       "      <td>8.8</td>\n",
       "      <td>8</td>\n",
       "      <td>282</td>\n",
       "      <td>4</td>\n",
       "      <td>0</td>\n",
       "      <td>0</td>\n",
       "      <td>sales</td>\n",
       "      <td>medium</td>\n",
       "      <td>1</td>\n",
       "    </tr>\n",
       "    <tr>\n",
       "      <th>3</th>\n",
       "      <td>3.7</td>\n",
       "      <td>5.2</td>\n",
       "      <td>3</td>\n",
       "      <td>169</td>\n",
       "      <td>3</td>\n",
       "      <td>0</td>\n",
       "      <td>0</td>\n",
       "      <td>sales</td>\n",
       "      <td>low</td>\n",
       "      <td>1</td>\n",
       "    </tr>\n",
       "    <tr>\n",
       "      <th>4</th>\n",
       "      <td>4.1</td>\n",
       "      <td>5.0</td>\n",
       "      <td>3</td>\n",
       "      <td>163</td>\n",
       "      <td>3</td>\n",
       "      <td>0</td>\n",
       "      <td>0</td>\n",
       "      <td>sales</td>\n",
       "      <td>low</td>\n",
       "      <td>1</td>\n",
       "    </tr>\n",
       "  </tbody>\n",
       "</table>\n",
       "</div>"
      ],
      "text/plain": [
       "   satisfaction_level  last_evaluation_rating  projects_worked_on  \\\n",
       "0                 3.8                     5.3                   3   \n",
       "1                 8.0                     8.6                   6   \n",
       "2                 1.1                     8.8                   8   \n",
       "3                 3.7                     5.2                   3   \n",
       "4                 4.1                     5.0                   3   \n",
       "\n",
       "   average_montly_hours  time_spend_company  Work_accident  \\\n",
       "0                   167                   3              0   \n",
       "1                   272                   6              0   \n",
       "2                   282                   4              0   \n",
       "3                   169                   3              0   \n",
       "4                   163                   3              0   \n",
       "\n",
       "   promotion_last_5years Department  salary  Attrition  \n",
       "0                      0      sales     low          1  \n",
       "1                      0      sales  medium          1  \n",
       "2                      0      sales  medium          1  \n",
       "3                      0      sales     low          1  \n",
       "4                      0      sales     low          1  "
      ]
     },
     "execution_count": 2,
     "metadata": {},
     "output_type": "execute_result"
    }
   ],
   "source": [
    "df = pd.read_csv(\"HR train.csv\")\n",
    "df.head()"
   ]
  },
  {
   "cell_type": "code",
   "execution_count": 3,
   "id": "98ad6ad0",
   "metadata": {},
   "outputs": [
    {
     "data": {
      "text/plain": [
       "(25491, 10)"
      ]
     },
     "execution_count": 3,
     "metadata": {},
     "output_type": "execute_result"
    }
   ],
   "source": [
    "df.shape"
   ]
  },
  {
   "cell_type": "markdown",
   "id": "cbaddcf8",
   "metadata": {},
   "source": [
    "# ETL"
   ]
  },
  {
   "cell_type": "markdown",
   "id": "aa39f196",
   "metadata": {},
   "source": [
    "### Changing the name of certain columns to match the others format"
   ]
  },
  {
   "cell_type": "code",
   "execution_count": 4,
   "id": "d3903966",
   "metadata": {
    "scrolled": false
   },
   "outputs": [
    {
     "data": {
      "text/html": [
       "<div>\n",
       "<style scoped>\n",
       "    .dataframe tbody tr th:only-of-type {\n",
       "        vertical-align: middle;\n",
       "    }\n",
       "\n",
       "    .dataframe tbody tr th {\n",
       "        vertical-align: top;\n",
       "    }\n",
       "\n",
       "    .dataframe thead th {\n",
       "        text-align: right;\n",
       "    }\n",
       "</style>\n",
       "<table border=\"1\" class=\"dataframe\">\n",
       "  <thead>\n",
       "    <tr style=\"text-align: right;\">\n",
       "      <th></th>\n",
       "      <th>satisfaction_level</th>\n",
       "      <th>last_evaluation_rating</th>\n",
       "      <th>projects_worked_on</th>\n",
       "      <th>average_montly_hours</th>\n",
       "      <th>time_spend_company</th>\n",
       "      <th>work_accident</th>\n",
       "      <th>promotion_last_5years</th>\n",
       "      <th>deparment</th>\n",
       "      <th>salary</th>\n",
       "      <th>attrition</th>\n",
       "    </tr>\n",
       "  </thead>\n",
       "  <tbody>\n",
       "    <tr>\n",
       "      <th>0</th>\n",
       "      <td>3.8</td>\n",
       "      <td>5.3</td>\n",
       "      <td>3</td>\n",
       "      <td>167</td>\n",
       "      <td>3</td>\n",
       "      <td>0</td>\n",
       "      <td>0</td>\n",
       "      <td>sales</td>\n",
       "      <td>low</td>\n",
       "      <td>1</td>\n",
       "    </tr>\n",
       "    <tr>\n",
       "      <th>1</th>\n",
       "      <td>8.0</td>\n",
       "      <td>8.6</td>\n",
       "      <td>6</td>\n",
       "      <td>272</td>\n",
       "      <td>6</td>\n",
       "      <td>0</td>\n",
       "      <td>0</td>\n",
       "      <td>sales</td>\n",
       "      <td>medium</td>\n",
       "      <td>1</td>\n",
       "    </tr>\n",
       "    <tr>\n",
       "      <th>2</th>\n",
       "      <td>1.1</td>\n",
       "      <td>8.8</td>\n",
       "      <td>8</td>\n",
       "      <td>282</td>\n",
       "      <td>4</td>\n",
       "      <td>0</td>\n",
       "      <td>0</td>\n",
       "      <td>sales</td>\n",
       "      <td>medium</td>\n",
       "      <td>1</td>\n",
       "    </tr>\n",
       "    <tr>\n",
       "      <th>3</th>\n",
       "      <td>3.7</td>\n",
       "      <td>5.2</td>\n",
       "      <td>3</td>\n",
       "      <td>169</td>\n",
       "      <td>3</td>\n",
       "      <td>0</td>\n",
       "      <td>0</td>\n",
       "      <td>sales</td>\n",
       "      <td>low</td>\n",
       "      <td>1</td>\n",
       "    </tr>\n",
       "    <tr>\n",
       "      <th>4</th>\n",
       "      <td>4.1</td>\n",
       "      <td>5.0</td>\n",
       "      <td>3</td>\n",
       "      <td>163</td>\n",
       "      <td>3</td>\n",
       "      <td>0</td>\n",
       "      <td>0</td>\n",
       "      <td>sales</td>\n",
       "      <td>low</td>\n",
       "      <td>1</td>\n",
       "    </tr>\n",
       "  </tbody>\n",
       "</table>\n",
       "</div>"
      ],
      "text/plain": [
       "   satisfaction_level  last_evaluation_rating  projects_worked_on  \\\n",
       "0                 3.8                     5.3                   3   \n",
       "1                 8.0                     8.6                   6   \n",
       "2                 1.1                     8.8                   8   \n",
       "3                 3.7                     5.2                   3   \n",
       "4                 4.1                     5.0                   3   \n",
       "\n",
       "   average_montly_hours  time_spend_company  work_accident  \\\n",
       "0                   167                   3              0   \n",
       "1                   272                   6              0   \n",
       "2                   282                   4              0   \n",
       "3                   169                   3              0   \n",
       "4                   163                   3              0   \n",
       "\n",
       "   promotion_last_5years deparment  salary  attrition  \n",
       "0                      0     sales     low          1  \n",
       "1                      0     sales  medium          1  \n",
       "2                      0     sales  medium          1  \n",
       "3                      0     sales     low          1  \n",
       "4                      0     sales     low          1  "
      ]
     },
     "execution_count": 4,
     "metadata": {},
     "output_type": "execute_result"
    }
   ],
   "source": [
    "df = df.rename(columns = {\"Department\":\"deparment\",\n",
    "                         \"Work_accident\":\"work_accident\",\n",
    "                         \"Attrition\":\"attrition\"})\n",
    "df.head()"
   ]
  },
  {
   "cell_type": "markdown",
   "id": "d67cb210",
   "metadata": {},
   "source": [
    "### Checking for null values"
   ]
  },
  {
   "cell_type": "code",
   "execution_count": 5,
   "id": "2b81e2dd",
   "metadata": {},
   "outputs": [
    {
     "data": {
      "text/plain": [
       "satisfaction_level        False\n",
       "last_evaluation_rating    False\n",
       "projects_worked_on        False\n",
       "average_montly_hours      False\n",
       "time_spend_company        False\n",
       "work_accident             False\n",
       "promotion_last_5years     False\n",
       "deparment                 False\n",
       "salary                    False\n",
       "attrition                 False\n",
       "dtype: bool"
      ]
     },
     "execution_count": 5,
     "metadata": {},
     "output_type": "execute_result"
    }
   ],
   "source": [
    "df.isnull().any()"
   ]
  },
  {
   "cell_type": "code",
   "execution_count": 6,
   "id": "c21e4494",
   "metadata": {},
   "outputs": [
    {
     "data": {
      "text/plain": [
       "satisfaction_level        float64\n",
       "last_evaluation_rating    float64\n",
       "projects_worked_on          int64\n",
       "average_montly_hours        int64\n",
       "time_spend_company          int64\n",
       "work_accident               int64\n",
       "promotion_last_5years       int64\n",
       "deparment                  object\n",
       "salary                     object\n",
       "attrition                   int64\n",
       "dtype: object"
      ]
     },
     "execution_count": 6,
     "metadata": {},
     "output_type": "execute_result"
    }
   ],
   "source": [
    "df.dtypes"
   ]
  },
  {
   "cell_type": "markdown",
   "id": "84d38608",
   "metadata": {},
   "source": [
    "### Grouping categorial values due to similitary"
   ]
  },
  {
   "cell_type": "code",
   "execution_count": 7,
   "id": "be988696",
   "metadata": {},
   "outputs": [
    {
     "name": "stdout",
     "output_type": "stream",
     "text": [
      "['sales' 'accounting' 'hr' 'technical' 'support' 'management' 'IT'\n",
      " 'product_mng' 'marketing' 'RandD']\n",
      "*************\n",
      "['low' 'medium' 'high']\n"
     ]
    }
   ],
   "source": [
    "print(df[\"deparment\"].unique())\n",
    "print(\"*************\")\n",
    "print(df[\"salary\"].unique())"
   ]
  },
  {
   "cell_type": "code",
   "execution_count": 8,
   "id": "02eec972",
   "metadata": {},
   "outputs": [],
   "source": [
    "df[\"deparment\"] = np.where(df[\"deparment\"]==\"support\", \"IT\", df[\"deparment\"])\n",
    "df[\"deparment\"] = np.where(df[\"deparment\"]==\"technical\", \"IT\", df[\"deparment\"])"
   ]
  },
  {
   "cell_type": "code",
   "execution_count": 9,
   "id": "9844bfb0",
   "metadata": {},
   "outputs": [],
   "source": [
    "df[\"deparment\"] = np.where(df[\"deparment\"]==\"marketing\", \"sales\", df[\"deparment\"])"
   ]
  },
  {
   "cell_type": "code",
   "execution_count": 10,
   "id": "d780ad13",
   "metadata": {},
   "outputs": [],
   "source": [
    "df[\"deparment\"] = np.where(df[\"deparment\"]==\"product_mng\", \"management\", df[\"deparment\"])\n",
    "df[\"deparment\"] = np.where(df[\"deparment\"]==\"RandD\", \"management\", df[\"deparment\"])"
   ]
  },
  {
   "cell_type": "code",
   "execution_count": 11,
   "id": "85f77f97",
   "metadata": {},
   "outputs": [],
   "source": [
    "df[\"deparment\"] = np.where(df[\"deparment\"]==\"accounting\", \"operations\", df[\"deparment\"])\n",
    "df[\"deparment\"] = np.where(df[\"deparment\"]==\"hr\", \"operations\", df[\"deparment\"])"
   ]
  },
  {
   "cell_type": "code",
   "execution_count": 12,
   "id": "d94dd38a",
   "metadata": {},
   "outputs": [
    {
     "data": {
      "text/plain": [
       "array(['sales', 'operations', 'IT', 'management'], dtype=object)"
      ]
     },
     "execution_count": 12,
     "metadata": {},
     "output_type": "execute_result"
    }
   ],
   "source": [
    "df[\"deparment\"].unique()"
   ]
  },
  {
   "cell_type": "markdown",
   "id": "5e17d27b",
   "metadata": {},
   "source": [
    "# EDA"
   ]
  },
  {
   "cell_type": "markdown",
   "id": "f78d9d20",
   "metadata": {},
   "source": [
    "### Plotting the Employee Turnover by deparment"
   ]
  },
  {
   "cell_type": "code",
   "execution_count": 13,
   "id": "684b244b",
   "metadata": {},
   "outputs": [
    {
     "name": "stdout",
     "output_type": "stream",
     "text": [
      "0    19501\n",
      "1     5990\n",
      "Name: attrition, dtype: int64\n"
     ]
    },
    {
     "data": {
      "image/png": "[encoded data removed]",
      "text/plain": [
       "<Figure size 432x288 with 1 Axes>"
      ]
     },
     "metadata": {
      "needs_background": "light"
     },
     "output_type": "display_data"
    }
   ],
   "source": [
    "print(df[\"attrition\"].value_counts())\n",
    "sns.countplot(df[\"deparment\"], hue = df[\"attrition\"])\n",
    "plt.title(\"Turnover Frecuenccy by Deparment\")\n",
    "plt.ylabel(\"Count of current employees (blue) and former employees (orange)\")\n",
    "plt.show()"
   ]
  },
  {
   "cell_type": "code",
   "execution_count": 14,
   "id": "86dd0c67",
   "metadata": {},
   "outputs": [
    {
     "data": {
      "text/plain": [
       "deparment\n",
       "IT            6.137237\n",
       "management    6.200996\n",
       "operations    5.934381\n",
       "sales         6.171049\n",
       "Name: satisfaction_level, dtype: float64"
      ]
     },
     "execution_count": 14,
     "metadata": {},
     "output_type": "execute_result"
    }
   ],
   "source": [
    "df.groupby(\"deparment\")[\"satisfaction_level\"].mean()"
   ]
  },
  {
   "cell_type": "markdown",
   "id": "8908bae0",
   "metadata": {},
   "source": [
    "### Converting categorial variables into numerical"
   ]
  },
  {
   "cell_type": "code",
   "execution_count": 15,
   "id": "b9b8720e",
   "metadata": {},
   "outputs": [
    {
     "data": {
      "text/html": [
       "<div>\n",
       "<style scoped>\n",
       "    .dataframe tbody tr th:only-of-type {\n",
       "        vertical-align: middle;\n",
       "    }\n",
       "\n",
       "    .dataframe tbody tr th {\n",
       "        vertical-align: top;\n",
       "    }\n",
       "\n",
       "    .dataframe thead th {\n",
       "        text-align: right;\n",
       "    }\n",
       "</style>\n",
       "<table border=\"1\" class=\"dataframe\">\n",
       "  <thead>\n",
       "    <tr style=\"text-align: right;\">\n",
       "      <th></th>\n",
       "      <th>satisfaction_level</th>\n",
       "      <th>last_evaluation_rating</th>\n",
       "      <th>projects_worked_on</th>\n",
       "      <th>average_montly_hours</th>\n",
       "      <th>time_spend_company</th>\n",
       "      <th>work_accident</th>\n",
       "      <th>promotion_last_5years</th>\n",
       "      <th>attrition</th>\n",
       "      <th>deparment_IT</th>\n",
       "      <th>deparment_management</th>\n",
       "      <th>deparment_operations</th>\n",
       "      <th>deparment_sales</th>\n",
       "      <th>salary_high</th>\n",
       "      <th>salary_low</th>\n",
       "      <th>salary_medium</th>\n",
       "    </tr>\n",
       "  </thead>\n",
       "  <tbody>\n",
       "    <tr>\n",
       "      <th>0</th>\n",
       "      <td>3.8</td>\n",
       "      <td>5.3</td>\n",
       "      <td>3</td>\n",
       "      <td>167</td>\n",
       "      <td>3</td>\n",
       "      <td>0</td>\n",
       "      <td>0</td>\n",
       "      <td>1</td>\n",
       "      <td>0</td>\n",
       "      <td>0</td>\n",
       "      <td>0</td>\n",
       "      <td>1</td>\n",
       "      <td>0</td>\n",
       "      <td>1</td>\n",
       "      <td>0</td>\n",
       "    </tr>\n",
       "    <tr>\n",
       "      <th>1</th>\n",
       "      <td>8.0</td>\n",
       "      <td>8.6</td>\n",
       "      <td>6</td>\n",
       "      <td>272</td>\n",
       "      <td>6</td>\n",
       "      <td>0</td>\n",
       "      <td>0</td>\n",
       "      <td>1</td>\n",
       "      <td>0</td>\n",
       "      <td>0</td>\n",
       "      <td>0</td>\n",
       "      <td>1</td>\n",
       "      <td>0</td>\n",
       "      <td>0</td>\n",
       "      <td>1</td>\n",
       "    </tr>\n",
       "    <tr>\n",
       "      <th>2</th>\n",
       "      <td>1.1</td>\n",
       "      <td>8.8</td>\n",
       "      <td>8</td>\n",
       "      <td>282</td>\n",
       "      <td>4</td>\n",
       "      <td>0</td>\n",
       "      <td>0</td>\n",
       "      <td>1</td>\n",
       "      <td>0</td>\n",
       "      <td>0</td>\n",
       "      <td>0</td>\n",
       "      <td>1</td>\n",
       "      <td>0</td>\n",
       "      <td>0</td>\n",
       "      <td>1</td>\n",
       "    </tr>\n",
       "    <tr>\n",
       "      <th>3</th>\n",
       "      <td>3.7</td>\n",
       "      <td>5.2</td>\n",
       "      <td>3</td>\n",
       "      <td>169</td>\n",
       "      <td>3</td>\n",
       "      <td>0</td>\n",
       "      <td>0</td>\n",
       "      <td>1</td>\n",
       "      <td>0</td>\n",
       "      <td>0</td>\n",
       "      <td>0</td>\n",
       "      <td>1</td>\n",
       "      <td>0</td>\n",
       "      <td>1</td>\n",
       "      <td>0</td>\n",
       "    </tr>\n",
       "    <tr>\n",
       "      <th>4</th>\n",
       "      <td>4.1</td>\n",
       "      <td>5.0</td>\n",
       "      <td>3</td>\n",
       "      <td>163</td>\n",
       "      <td>3</td>\n",
       "      <td>0</td>\n",
       "      <td>0</td>\n",
       "      <td>1</td>\n",
       "      <td>0</td>\n",
       "      <td>0</td>\n",
       "      <td>0</td>\n",
       "      <td>1</td>\n",
       "      <td>0</td>\n",
       "      <td>1</td>\n",
       "      <td>0</td>\n",
       "    </tr>\n",
       "  </tbody>\n",
       "</table>\n",
       "</div>"
      ],
      "text/plain": [
       "   satisfaction_level  last_evaluation_rating  projects_worked_on  \\\n",
       "0                 3.8                     5.3                   3   \n",
       "1                 8.0                     8.6                   6   \n",
       "2                 1.1                     8.8                   8   \n",
       "3                 3.7                     5.2                   3   \n",
       "4                 4.1                     5.0                   3   \n",
       "\n",
       "   average_montly_hours  time_spend_company  work_accident  \\\n",
       "0                   167                   3              0   \n",
       "1                   272                   6              0   \n",
       "2                   282                   4              0   \n",
       "3                   169                   3              0   \n",
       "4                   163                   3              0   \n",
       "\n",
       "   promotion_last_5years  attrition  deparment_IT  deparment_management  \\\n",
       "0                      0          1             0                     0   \n",
       "1                      0          1             0                     0   \n",
       "2                      0          1             0                     0   \n",
       "3                      0          1             0                     0   \n",
       "4                      0          1             0                     0   \n",
       "\n",
       "   deparment_operations  deparment_sales  salary_high  salary_low  \\\n",
       "0                     0                1            0           1   \n",
       "1                     0                1            0           0   \n",
       "2                     0                1            0           0   \n",
       "3                     0                1            0           1   \n",
       "4                     0                1            0           1   \n",
       "\n",
       "   salary_medium  \n",
       "0              0  \n",
       "1              1  \n",
       "2              1  \n",
       "3              0  \n",
       "4              0  "
      ]
     },
     "execution_count": 15,
     "metadata": {},
     "output_type": "execute_result"
    }
   ],
   "source": [
    "df = pd.get_dummies(df)\n",
    "df.head()"
   ]
  },
  {
   "cell_type": "markdown",
   "id": "7937a4ea",
   "metadata": {},
   "source": [
    "# MACHINE LEARNING"
   ]
  },
  {
   "cell_type": "markdown",
   "id": "f27b0511",
   "metadata": {},
   "source": [
    "### Splitting the dataset into dependent and independent variables"
   ]
  },
  {
   "cell_type": "code",
   "execution_count": 16,
   "id": "1db900fa",
   "metadata": {},
   "outputs": [],
   "source": [
    "y = df[\"attrition\"]\n",
    "X = df.drop(\"attrition\", axis = 1)"
   ]
  },
  {
   "cell_type": "code",
   "execution_count": 17,
   "id": "6efd21bb",
   "metadata": {},
   "outputs": [
    {
     "name": "stdout",
     "output_type": "stream",
     "text": [
      "(25491,)\n",
      "(25491, 14)\n"
     ]
    }
   ],
   "source": [
    "print(y.shape)\n",
    "print(X.shape)"
   ]
  },
  {
   "cell_type": "markdown",
   "id": "55f472dd",
   "metadata": {},
   "source": [
    "### Getting the most important (significant) columns of our independent variables"
   ]
  },
  {
   "cell_type": "code",
   "execution_count": 18,
   "id": "e982134b",
   "metadata": {},
   "outputs": [
    {
     "name": "stdout",
     "output_type": "stream",
     "text": [
      "[ True False  True False  True  True  True False  True  True False  True\n",
      "  True  True]\n",
      "[1 2 1 5 1 1 1 3 1 1 4 1 1 1]\n"
     ]
    }
   ],
   "source": [
    "from sklearn.feature_selection import RFE\n",
    "from sklearn.linear_model import LogisticRegression\n",
    "\n",
    "model = LogisticRegression()\n",
    "\n",
    "rfe = RFE(model, 10)\n",
    "rfe = rfe.fit(X,y)\n",
    "\n",
    "print(rfe.support_)\n",
    "print(rfe.ranking_)"
   ]
  },
  {
   "cell_type": "code",
   "execution_count": 19,
   "id": "d5484bee",
   "metadata": {},
   "outputs": [
    {
     "data": {
      "text/plain": [
       "Index(['satisfaction_level', 'last_evaluation_rating', 'projects_worked_on',\n",
       "       'average_montly_hours', 'time_spend_company', 'work_accident',\n",
       "       'promotion_last_5years', 'deparment_IT', 'deparment_management',\n",
       "       'deparment_operations', 'deparment_sales', 'salary_high', 'salary_low',\n",
       "       'salary_medium'],\n",
       "      dtype='object')"
      ]
     },
     "execution_count": 19,
     "metadata": {},
     "output_type": "execute_result"
    }
   ],
   "source": [
    "X.columns"
   ]
  },
  {
   "cell_type": "markdown",
   "id": "dad63495",
   "metadata": {},
   "source": [
    "### Creating a new X but now with the most important columns"
   ]
  },
  {
   "cell_type": "code",
   "execution_count": 20,
   "id": "78fa21b9",
   "metadata": {},
   "outputs": [],
   "source": [
    "important_feat = ['satisfaction_level', 'projects_worked_on', 'time_spend_company', 'work_accident',\n",
    "       'promotion_last_5years', 'deparment_management',\n",
    "       'deparment_operations' ]\n",
    "\n",
    "X = df[important_feat]"
   ]
  },
  {
   "cell_type": "markdown",
   "id": "413f29e4",
   "metadata": {},
   "source": [
    "### Splitting the dataset into training and testing"
   ]
  },
  {
   "cell_type": "code",
   "execution_count": 21,
   "id": "9a4d347b",
   "metadata": {},
   "outputs": [],
   "source": [
    "from sklearn.model_selection import train_test_split\n",
    "X_train, X_test, y_train, y_test = train_test_split(X, y, test_size=0.30, random_state = 101) \n",
    "\n",
    "from sklearn.metrics import accuracy_score\n",
    "from sklearn.metrics import confusion_matrix, classification_report"
   ]
  },
  {
   "cell_type": "markdown",
   "id": "3294b3c7",
   "metadata": {},
   "source": [
    "### Logistic Regression with the classification report and confusion matrix"
   ]
  },
  {
   "cell_type": "code",
   "execution_count": 22,
   "id": "80e829cc",
   "metadata": {},
   "outputs": [
    {
     "name": "stdout",
     "output_type": "stream",
     "text": [
      "Logistic Regression accuracy: 77%\n",
      "*********************************************\n",
      "Classification Report:\n",
      "              precision    recall  f1-score   support\n",
      "\n",
      "           0       0.92      0.80      0.86      6739\n",
      "           1       0.26      0.50      0.34       909\n",
      "\n",
      "    accuracy                           0.77      7648\n",
      "   macro avg       0.59      0.65      0.60      7648\n",
      "weighted avg       0.84      0.77      0.80      7648\n",
      "\n",
      "*********************************************\n",
      "Confusion Matrix:\n"
     ]
    },
    {
     "data": {
      "image/png": "[encoded data removed]",
      "text/plain": [
       "<Figure size 432x288 with 2 Axes>"
      ]
     },
     "metadata": {
      "needs_background": "light"
     },
     "output_type": "display_data"
    }
   ],
   "source": [
    "from sklearn.linear_model import LogisticRegression\n",
    "\n",
    "logmodel = LogisticRegression().fit(X_train, y_train)\n",
    "\n",
    "preds = logmodel.predict(X_test)\n",
    "\n",
    "print(f\"Logistic Regression accuracy: {round(accuracy_score(y_test, logmodel.predict(X_test))*100)}%\")\n",
    "print(\"*********************************************\")\n",
    "print(\"Classification Report:\")\n",
    "print(classification_report(preds, y_test))\n",
    "print(\"*********************************************\")\n",
    "print(\"Confusion Matrix:\")\n",
    "log_cm = confusion_matrix(preds, y_test)\n",
    "sns.heatmap(log_cm, annot = True, cmap = \"RdYlGn\", fmt=\".2f\", xticklabels = [\"Left\", \"Stayed\"], yticklabels = [\"Left\", \"Stayed\"])\n",
    "plt.ylabel(\"Real values\")\n",
    "plt.xlabel(\"Predicted values\")\n",
    "plt.title(\"Logistic Regression\")\n",
    "plt.show()"
   ]
  },
  {
   "cell_type": "markdown",
   "id": "15d988c4",
   "metadata": {},
   "source": [
    "### Random Forest with the classification report and confusion matrix"
   ]
  },
  {
   "cell_type": "code",
   "execution_count": 23,
   "id": "bc4a1ac5",
   "metadata": {},
   "outputs": [
    {
     "name": "stdout",
     "output_type": "stream",
     "text": [
      "Random Forest accuracy: 97%\n",
      "*********************************************\n",
      "Classification Report:\n",
      "              precision    recall  f1-score   support\n",
      "\n",
      "           0       0.97      0.98      0.98      5833\n",
      "           1       0.93      0.92      0.93      1815\n",
      "\n",
      "    accuracy                           0.97      7648\n",
      "   macro avg       0.95      0.95      0.95      7648\n",
      "weighted avg       0.96      0.97      0.96      7648\n",
      "\n",
      "*********************************************\n",
      "Confusion Matrix:\n"
     ]
    },
    {
     "data": {
      "image/png": "[encoded data removed]",
      "text/plain": [
       "<Figure size 432x288 with 2 Axes>"
      ]
     },
     "metadata": {
      "needs_background": "light"
     },
     "output_type": "display_data"
    }
   ],
   "source": [
    "from sklearn.ensemble import RandomForestClassifier\n",
    "\n",
    "rf = RandomForestClassifier().fit(X_train, y_train)\n",
    "\n",
    "preds = rf.predict(X_test)\n",
    "\n",
    "print(f\"Random Forest accuracy: {round(accuracy_score(y_test, rf.predict(X_test))*100)}%\")\n",
    "print(\"*********************************************\")\n",
    "print(\"Classification Report:\")\n",
    "print(classification_report(preds, y_test))\n",
    "print(\"*********************************************\")\n",
    "print(\"Confusion Matrix:\")\n",
    "\n",
    "rf_cm = confusion_matrix(preds, y_test)\n",
    "sns.heatmap(rf_cm, annot = True, fmt=\".2f\", cmap = \"RdYlGn\", xticklabels = [\"Left\", \"Stayed\"], yticklabels = [\"Left\", \"Stayed\"])\n",
    "plt.ylabel(\"Real values\")\n",
    "plt.xlabel(\"Predicted values\")\n",
    "plt.title(\"Random Forest\")\n",
    "plt.show()"
   ]
  },
  {
   "cell_type": "markdown",
   "id": "6f0b0cd1",
   "metadata": {},
   "source": [
    "### Support Vectior Machine with the classification report and confusion matrix"
   ]
  },
  {
   "cell_type": "code",
   "execution_count": 24,
   "id": "e589ce3f",
   "metadata": {},
   "outputs": [
    {
     "name": "stdout",
     "output_type": "stream",
     "text": [
      "Support Vector Machine accuracy: 92%\n",
      "*********************************************\n",
      "Classification Report:\n",
      "              precision    recall  f1-score   support\n",
      "\n",
      "           0       0.95      0.95      0.95      5876\n",
      "           1       0.83      0.84      0.84      1772\n",
      "\n",
      "    accuracy                           0.92      7648\n",
      "   macro avg       0.89      0.89      0.89      7648\n",
      "weighted avg       0.92      0.92      0.92      7648\n",
      "\n",
      "*********************************************\n",
      "Confusion Matrix:\n"
     ]
    },
    {
     "data": {
      "image/png": "[encoded data removed]",
      "text/plain": [
       "<Figure size 432x288 with 2 Axes>"
      ]
     },
     "metadata": {
      "needs_background": "light"
     },
     "output_type": "display_data"
    }
   ],
   "source": [
    "from sklearn.svm import SVC\n",
    "svc = SVC().fit(X_train, y_train)\n",
    "\n",
    "print(f\"Support Vector Machine accuracy: {round(accuracy_score(y_test, svc.predict(X_test))*100)}%\")\n",
    "print(\"*********************************************\")\n",
    "print(\"Classification Report:\")\n",
    "print(classification_report(svc.predict(X_test), y_test))\n",
    "print(\"*********************************************\")\n",
    "print(\"Confusion Matrix:\")\n",
    "\n",
    "svm_cm = confusion_matrix(svc.predict(X_test), y_test)\n",
    "sns.heatmap(svm_cm, annot = True, fmt=\".2f\", cmap = \"RdYlGn\", xticklabels = [\"Left\", \"Stayed\"], yticklabels = [\"Left\", \"Stayed\"])\n",
    "plt.ylabel(\"Real values\")\n",
    "plt.xlabel(\"Predicted values\")\n",
    "plt.title(\"Support Vector Machine\")\n",
    "plt.show()"
   ]
  },
  {
   "cell_type": "markdown",
   "id": "59becc9d",
   "metadata": {},
   "source": [
    "### XGBOOST with the classification report and confusion matrix"
   ]
  },
  {
   "cell_type": "code",
   "execution_count": 25,
   "id": "49b7483d",
   "metadata": {},
   "outputs": [
    {
     "name": "stdout",
     "output_type": "stream",
     "text": [
      "XGBoost accuracy: 96%\n",
      "*********************************************\n",
      "Confusion Matrix:\n"
     ]
    },
    {
     "data": {
      "image/png": "[encoded data removed]",
      "text/plain": [
       "<Figure size 432x288 with 2 Axes>"
      ]
     },
     "metadata": {
      "needs_background": "light"
     },
     "output_type": "display_data"
    }
   ],
   "source": [
    "from xgboost import XGBClassifier\n",
    "xgb=XGBClassifier().fit(X_train, y_train)\n",
    "preds = xgb.predict(X_test)\n",
    "\n",
    "print(f\"XGBoost accuracy: {round(accuracy_score(y_test, preds)*100)}%\")\n",
    "print(\"*********************************************\")\n",
    "print(\"Confusion Matrix:\")\n",
    "\n",
    "xgb_cm = confusion_matrix(preds, y_test)\n",
    "sns.heatmap(xgb_cm, annot = True, fmt=\".2f\", cmap = \"RdYlGn\", xticklabels = [\"Left\", \"Stayed\"], yticklabels = [\"Left\", \"Stayed\"])\n",
    "plt.ylabel(\"Real values\")\n",
    "plt.xlabel(\"Predicted values\")\n",
    "plt.title(\"XGBoost\")\n",
    "plt.show()"
   ]
  },
  {
   "cell_type": "markdown",
   "id": "970ff3b4",
   "metadata": {},
   "source": [
    "# CONCLUSIONS"
   ]
  },
  {
   "cell_type": "markdown",
   "id": "8ce0e124",
   "metadata": {},
   "source": [
    "We can notice that the Random Forest and the XGBoost were the highest accuracy rate, so it is recommend to use them in this scenario and with this kind of dataset for improving the business needs."
   ]
  }
 ],
 "metadata": {
  "kernelspec": {
   "display_name": "Python 3 (ipykernel)",
   "language": "python",
   "name": "python3"
  },
  "language_info": {
   "codemirror_mode": {
    "name": "ipython",
    "version": 3
   },
   "file_extension": ".py",
   "mimetype": "text/x-python",
   "name": "python",
   "nbconvert_exporter": "python",
   "pygments_lexer": "ipython3",
   "version": "3.9.7"
  }
 },
 "nbformat": 4,
 "nbformat_minor": 5
}
