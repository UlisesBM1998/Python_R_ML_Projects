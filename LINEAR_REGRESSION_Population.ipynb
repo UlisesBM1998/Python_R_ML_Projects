{
 "cells": [
  {
   "cell_type": "markdown",
   "id": "cd28f2df",
   "metadata": {},
   "source": [
    "# INTRO"
   ]
  },
  {
   "cell_type": "markdown",
   "id": "9706335e",
   "metadata": {},
   "source": [
    "The top 3 most populated countries are the most richest, improving the population is one of the best investment that a country can make. So I created a ML model that can predict if the next years the human population is going to grow, and how much it is goint to be."
   ]
  },
  {
   "cell_type": "markdown",
   "id": "b486449c",
   "metadata": {},
   "source": [
    "# LIBRARIES AND DATASET"
   ]
  },
  {
   "cell_type": "code",
   "execution_count": 1,
   "id": "9d9bad95",
   "metadata": {},
   "outputs": [],
   "source": [
    "import numpy as np\n",
    "import pandas as pd\n",
    "\n",
    "import matplotlib.pyplot as plt\n",
    "import seaborn as sns\n",
    "\n",
    "import warnings\n",
    "warnings.filterwarnings(\"ignore\")"
   ]
  },
  {
   "cell_type": "code",
   "execution_count": 2,
   "id": "7432b9a3",
   "metadata": {
    "scrolled": true
   },
   "outputs": [
    {
     "data": {
      "text/html": [
       "<div>\n",
       "<style scoped>\n",
       "    .dataframe tbody tr th:only-of-type {\n",
       "        vertical-align: middle;\n",
       "    }\n",
       "\n",
       "    .dataframe tbody tr th {\n",
       "        vertical-align: top;\n",
       "    }\n",
       "\n",
       "    .dataframe thead th {\n",
       "        text-align: right;\n",
       "    }\n",
       "</style>\n",
       "<table border=\"1\" class=\"dataframe\">\n",
       "  <thead>\n",
       "    <tr style=\"text-align: right;\">\n",
       "      <th></th>\n",
       "      <th>rank</th>\n",
       "      <th>cca3</th>\n",
       "      <th>country</th>\n",
       "      <th>continent</th>\n",
       "      <th>2023 population</th>\n",
       "      <th>2022 population</th>\n",
       "      <th>2020 population</th>\n",
       "      <th>2015 population</th>\n",
       "      <th>2010 population</th>\n",
       "      <th>2000 population</th>\n",
       "      <th>1990 population</th>\n",
       "      <th>1980 population</th>\n",
       "      <th>1970 population</th>\n",
       "      <th>area (km²)</th>\n",
       "      <th>density (km²)</th>\n",
       "      <th>growth rate</th>\n",
       "      <th>world percentage</th>\n",
       "    </tr>\n",
       "  </thead>\n",
       "  <tbody>\n",
       "    <tr>\n",
       "      <th>0</th>\n",
       "      <td>1</td>\n",
       "      <td>IND</td>\n",
       "      <td>India</td>\n",
       "      <td>Asia</td>\n",
       "      <td>1428627663</td>\n",
       "      <td>1417173173</td>\n",
       "      <td>1396387127</td>\n",
       "      <td>1322866505</td>\n",
       "      <td>1240613620</td>\n",
       "      <td>1059633675</td>\n",
       "      <td>870452165</td>\n",
       "      <td>696828385</td>\n",
       "      <td>557501301</td>\n",
       "      <td>3287590.0</td>\n",
       "      <td>481</td>\n",
       "      <td>0.81%</td>\n",
       "      <td>17.85%</td>\n",
       "    </tr>\n",
       "    <tr>\n",
       "      <th>1</th>\n",
       "      <td>2</td>\n",
       "      <td>CHN</td>\n",
       "      <td>China</td>\n",
       "      <td>Asia</td>\n",
       "      <td>1425671352</td>\n",
       "      <td>1425887337</td>\n",
       "      <td>1424929781</td>\n",
       "      <td>1393715448</td>\n",
       "      <td>1348191368</td>\n",
       "      <td>1264099069</td>\n",
       "      <td>1153704252</td>\n",
       "      <td>982372466</td>\n",
       "      <td>822534450</td>\n",
       "      <td>9706961.0</td>\n",
       "      <td>151</td>\n",
       "      <td>-0.02%</td>\n",
       "      <td>17.81%</td>\n",
       "    </tr>\n",
       "    <tr>\n",
       "      <th>2</th>\n",
       "      <td>3</td>\n",
       "      <td>USA</td>\n",
       "      <td>United States</td>\n",
       "      <td>North America</td>\n",
       "      <td>339996563</td>\n",
       "      <td>338289857</td>\n",
       "      <td>335942003</td>\n",
       "      <td>324607776</td>\n",
       "      <td>311182845</td>\n",
       "      <td>282398554</td>\n",
       "      <td>248083732</td>\n",
       "      <td>223140018</td>\n",
       "      <td>200328340</td>\n",
       "      <td>9372610.0</td>\n",
       "      <td>37</td>\n",
       "      <td>0.50%</td>\n",
       "      <td>4.25%</td>\n",
       "    </tr>\n",
       "    <tr>\n",
       "      <th>3</th>\n",
       "      <td>4</td>\n",
       "      <td>IDN</td>\n",
       "      <td>Indonesia</td>\n",
       "      <td>Asia</td>\n",
       "      <td>277534122</td>\n",
       "      <td>275501339</td>\n",
       "      <td>271857970</td>\n",
       "      <td>259091970</td>\n",
       "      <td>244016173</td>\n",
       "      <td>214072421</td>\n",
       "      <td>182159874</td>\n",
       "      <td>148177096</td>\n",
       "      <td>115228394</td>\n",
       "      <td>1904569.0</td>\n",
       "      <td>148</td>\n",
       "      <td>0.74%</td>\n",
       "      <td>3.47%</td>\n",
       "    </tr>\n",
       "    <tr>\n",
       "      <th>4</th>\n",
       "      <td>5</td>\n",
       "      <td>PAK</td>\n",
       "      <td>Pakistan</td>\n",
       "      <td>Asia</td>\n",
       "      <td>240485658</td>\n",
       "      <td>235824862</td>\n",
       "      <td>227196741</td>\n",
       "      <td>210969298</td>\n",
       "      <td>194454498</td>\n",
       "      <td>154369924</td>\n",
       "      <td>115414069</td>\n",
       "      <td>80624057</td>\n",
       "      <td>59290872</td>\n",
       "      <td>881912.0</td>\n",
       "      <td>312</td>\n",
       "      <td>1.98%</td>\n",
       "      <td>3.00%</td>\n",
       "    </tr>\n",
       "  </tbody>\n",
       "</table>\n",
       "</div>"
      ],
      "text/plain": [
       "   rank cca3        country      continent  2023 population  2022 population  \\\n",
       "0     1  IND          India           Asia       1428627663       1417173173   \n",
       "1     2  CHN          China           Asia       1425671352       1425887337   \n",
       "2     3  USA  United States  North America        339996563        338289857   \n",
       "3     4  IDN      Indonesia           Asia        277534122        275501339   \n",
       "4     5  PAK       Pakistan           Asia        240485658        235824862   \n",
       "\n",
       "   2020 population  2015 population  2010 population  2000 population  \\\n",
       "0       1396387127       1322866505       1240613620       1059633675   \n",
       "1       1424929781       1393715448       1348191368       1264099069   \n",
       "2        335942003        324607776        311182845        282398554   \n",
       "3        271857970        259091970        244016173        214072421   \n",
       "4        227196741        210969298        194454498        154369924   \n",
       "\n",
       "   1990 population  1980 population  1970 population  area (km²)  \\\n",
       "0        870452165        696828385        557501301   3287590.0   \n",
       "1       1153704252        982372466        822534450   9706961.0   \n",
       "2        248083732        223140018        200328340   9372610.0   \n",
       "3        182159874        148177096        115228394   1904569.0   \n",
       "4        115414069         80624057         59290872    881912.0   \n",
       "\n",
       "   density (km²) growth rate world percentage  \n",
       "0            481       0.81%           17.85%  \n",
       "1            151      -0.02%           17.81%  \n",
       "2             37       0.50%            4.25%  \n",
       "3            148       0.74%            3.47%  \n",
       "4            312       1.98%            3.00%  "
      ]
     },
     "execution_count": 2,
     "metadata": {},
     "output_type": "execute_result"
    }
   ],
   "source": [
    "df = pd.read_csv(\"world_population_data.csv\")\n",
    "df.head()"
   ]
  },
  {
   "cell_type": "markdown",
   "id": "a2ae22bb",
   "metadata": {},
   "source": [
    "# ETL"
   ]
  },
  {
   "cell_type": "markdown",
   "id": "b9f0cf8b",
   "metadata": {},
   "source": [
    "### Dropping unnecessary columns to our analysis"
   ]
  },
  {
   "cell_type": "code",
   "execution_count": 3,
   "id": "f69e42c0",
   "metadata": {
    "scrolled": false
   },
   "outputs": [
    {
     "data": {
      "text/html": [
       "<div>\n",
       "<style scoped>\n",
       "    .dataframe tbody tr th:only-of-type {\n",
       "        vertical-align: middle;\n",
       "    }\n",
       "\n",
       "    .dataframe tbody tr th {\n",
       "        vertical-align: top;\n",
       "    }\n",
       "\n",
       "    .dataframe thead th {\n",
       "        text-align: right;\n",
       "    }\n",
       "</style>\n",
       "<table border=\"1\" class=\"dataframe\">\n",
       "  <thead>\n",
       "    <tr style=\"text-align: right;\">\n",
       "      <th></th>\n",
       "      <th>cca3</th>\n",
       "      <th>country</th>\n",
       "      <th>continent</th>\n",
       "      <th>2023 population</th>\n",
       "      <th>2022 population</th>\n",
       "      <th>2020 population</th>\n",
       "      <th>2015 population</th>\n",
       "      <th>2010 population</th>\n",
       "      <th>2000 population</th>\n",
       "      <th>1990 population</th>\n",
       "      <th>1980 population</th>\n",
       "      <th>1970 population</th>\n",
       "      <th>area (km²)</th>\n",
       "      <th>density (km²)</th>\n",
       "    </tr>\n",
       "  </thead>\n",
       "  <tbody>\n",
       "    <tr>\n",
       "      <th>0</th>\n",
       "      <td>IND</td>\n",
       "      <td>India</td>\n",
       "      <td>Asia</td>\n",
       "      <td>1428627663</td>\n",
       "      <td>1417173173</td>\n",
       "      <td>1396387127</td>\n",
       "      <td>1322866505</td>\n",
       "      <td>1240613620</td>\n",
       "      <td>1059633675</td>\n",
       "      <td>870452165</td>\n",
       "      <td>696828385</td>\n",
       "      <td>557501301</td>\n",
       "      <td>3287590.0</td>\n",
       "      <td>481</td>\n",
       "    </tr>\n",
       "    <tr>\n",
       "      <th>1</th>\n",
       "      <td>CHN</td>\n",
       "      <td>China</td>\n",
       "      <td>Asia</td>\n",
       "      <td>1425671352</td>\n",
       "      <td>1425887337</td>\n",
       "      <td>1424929781</td>\n",
       "      <td>1393715448</td>\n",
       "      <td>1348191368</td>\n",
       "      <td>1264099069</td>\n",
       "      <td>1153704252</td>\n",
       "      <td>982372466</td>\n",
       "      <td>822534450</td>\n",
       "      <td>9706961.0</td>\n",
       "      <td>151</td>\n",
       "    </tr>\n",
       "    <tr>\n",
       "      <th>2</th>\n",
       "      <td>USA</td>\n",
       "      <td>United States</td>\n",
       "      <td>North America</td>\n",
       "      <td>339996563</td>\n",
       "      <td>338289857</td>\n",
       "      <td>335942003</td>\n",
       "      <td>324607776</td>\n",
       "      <td>311182845</td>\n",
       "      <td>282398554</td>\n",
       "      <td>248083732</td>\n",
       "      <td>223140018</td>\n",
       "      <td>200328340</td>\n",
       "      <td>9372610.0</td>\n",
       "      <td>37</td>\n",
       "    </tr>\n",
       "    <tr>\n",
       "      <th>3</th>\n",
       "      <td>IDN</td>\n",
       "      <td>Indonesia</td>\n",
       "      <td>Asia</td>\n",
       "      <td>277534122</td>\n",
       "      <td>275501339</td>\n",
       "      <td>271857970</td>\n",
       "      <td>259091970</td>\n",
       "      <td>244016173</td>\n",
       "      <td>214072421</td>\n",
       "      <td>182159874</td>\n",
       "      <td>148177096</td>\n",
       "      <td>115228394</td>\n",
       "      <td>1904569.0</td>\n",
       "      <td>148</td>\n",
       "    </tr>\n",
       "    <tr>\n",
       "      <th>4</th>\n",
       "      <td>PAK</td>\n",
       "      <td>Pakistan</td>\n",
       "      <td>Asia</td>\n",
       "      <td>240485658</td>\n",
       "      <td>235824862</td>\n",
       "      <td>227196741</td>\n",
       "      <td>210969298</td>\n",
       "      <td>194454498</td>\n",
       "      <td>154369924</td>\n",
       "      <td>115414069</td>\n",
       "      <td>80624057</td>\n",
       "      <td>59290872</td>\n",
       "      <td>881912.0</td>\n",
       "      <td>312</td>\n",
       "    </tr>\n",
       "  </tbody>\n",
       "</table>\n",
       "</div>"
      ],
      "text/plain": [
       "  cca3        country      continent  2023 population  2022 population  \\\n",
       "0  IND          India           Asia       1428627663       1417173173   \n",
       "1  CHN          China           Asia       1425671352       1425887337   \n",
       "2  USA  United States  North America        339996563        338289857   \n",
       "3  IDN      Indonesia           Asia        277534122        275501339   \n",
       "4  PAK       Pakistan           Asia        240485658        235824862   \n",
       "\n",
       "   2020 population  2015 population  2010 population  2000 population  \\\n",
       "0       1396387127       1322866505       1240613620       1059633675   \n",
       "1       1424929781       1393715448       1348191368       1264099069   \n",
       "2        335942003        324607776        311182845        282398554   \n",
       "3        271857970        259091970        244016173        214072421   \n",
       "4        227196741        210969298        194454498        154369924   \n",
       "\n",
       "   1990 population  1980 population  1970 population  area (km²)  \\\n",
       "0        870452165        696828385        557501301   3287590.0   \n",
       "1       1153704252        982372466        822534450   9706961.0   \n",
       "2        248083732        223140018        200328340   9372610.0   \n",
       "3        182159874        148177096        115228394   1904569.0   \n",
       "4        115414069         80624057         59290872    881912.0   \n",
       "\n",
       "   density (km²)  \n",
       "0            481  \n",
       "1            151  \n",
       "2             37  \n",
       "3            148  \n",
       "4            312  "
      ]
     },
     "execution_count": 3,
     "metadata": {},
     "output_type": "execute_result"
    }
   ],
   "source": [
    "df.drop([\"growth rate\", \"world percentage\",\"rank\"], axis = 1, inplace = True)\n",
    "df.head()"
   ]
  },
  {
   "cell_type": "markdown",
   "id": "037e28f3",
   "metadata": {},
   "source": [
    "# EDA"
   ]
  },
  {
   "cell_type": "markdown",
   "id": "4a819381",
   "metadata": {},
   "source": [
    "### Bar plot of most biggest continents"
   ]
  },
  {
   "cell_type": "code",
   "execution_count": 5,
   "id": "8d901ebc",
   "metadata": {},
   "outputs": [
    {
     "name": "stdout",
     "output_type": "stream",
     "text": [
      "continent\n",
      "Asia             32138143.90\n",
      "Africa           30317963.00\n",
      "North America    24244178.00\n",
      "Europe           23010411.26\n",
      "South America    17833382.00\n",
      "Oceania           8515218.00\n",
      "Name: area (km²), dtype: float64\n"
     ]
    },
    {
     "data": {
      "image/png": "[encoded data removed]",
      "text/plain": [
       "<Figure size 432x288 with 1 Axes>"
      ]
     },
     "metadata": {
      "needs_background": "light"
     },
     "output_type": "display_data"
    }
   ],
   "source": [
    "print(df.groupby(\"continent\")[\"area (km²)\"].sum().sort_values(ascending = False))\n",
    "df.groupby(\"continent\")[\"area (km²)\"].sum().sort_values(ascending = False).plot(kind=\"bar\")\n",
    "plt.show()"
   ]
  },
  {
   "cell_type": "markdown",
   "id": "d8b5e8c8",
   "metadata": {},
   "source": [
    "### Barplot of the top 10 countries with most population"
   ]
  },
  {
   "cell_type": "code",
   "execution_count": 31,
   "id": "2b7d5a3d",
   "metadata": {},
   "outputs": [
    {
     "data": {
      "text/plain": [
       "<AxesSubplot:xlabel='country', ylabel='2023 population'>"
      ]
     },
     "execution_count": 31,
     "metadata": {},
     "output_type": "execute_result"
    },
    {
     "data": {
      "image/png": "[encoded data removed]",
      "text/plain": [
       "<Figure size 720x504 with 1 Axes>"
      ]
     },
     "metadata": {
      "needs_background": "light"
     },
     "output_type": "display_data"
    }
   ],
   "source": [
    "plt.figure(figsize=(10,7))\n",
    "df_top10 = df.where(df[\"2023 population\"] > 128455566 )\n",
    "sns.barplot(\"country\", \"2023 population\", data = df_top10)"
   ]
  },
  {
   "cell_type": "markdown",
   "id": "eb4f2de3",
   "metadata": {},
   "source": [
    "### Heatmap of correlation with the population of all years"
   ]
  },
  {
   "cell_type": "code",
   "execution_count": 7,
   "id": "2a86a035",
   "metadata": {},
   "outputs": [
    {
     "data": {
      "text/plain": [
       "Index(['cca3', 'country', 'continent', '2023 population', '2022 population',\n",
       "       '2020 population', '2015 population', '2010 population',\n",
       "       '2000 population', '1990 population', '1980 population',\n",
       "       '1970 population', 'area (km²)', 'density (km²)'],\n",
       "      dtype='object')"
      ]
     },
     "execution_count": 7,
     "metadata": {},
     "output_type": "execute_result"
    }
   ],
   "source": [
    "df.columns"
   ]
  },
  {
   "cell_type": "code",
   "execution_count": 8,
   "id": "80debbc7",
   "metadata": {},
   "outputs": [
    {
     "data": {
      "text/plain": [
       "<AxesSubplot:>"
      ]
     },
     "execution_count": 8,
     "metadata": {},
     "output_type": "execute_result"
    },
    {
     "data": {
      "image/png": "[encoded data removed]",
      "text/plain": [
       "<Figure size 432x288 with 2 Axes>"
      ]
     },
     "metadata": {
      "needs_background": "light"
     },
     "output_type": "display_data"
    }
   ],
   "source": [
    "pop_list = df[['2023 population', '2022 population',\n",
    "       '2020 population', '2015 population', '2010 population',\n",
    "       '2000 population', '1990 population', '1980 population',\n",
    "       '1970 population']]\n",
    "\n",
    "corr_pop_list = pop_list.corr()\n",
    "\n",
    "sns.heatmap(corr_pop_list, annot = True)"
   ]
  },
  {
   "cell_type": "markdown",
   "id": "690f96af",
   "metadata": {},
   "source": [
    "### Heatmap correlation between how bigger is a country and how density it is"
   ]
  },
  {
   "cell_type": "code",
   "execution_count": 9,
   "id": "ee2c7183",
   "metadata": {
    "scrolled": true
   },
   "outputs": [
    {
     "data": {
      "text/plain": [
       "<AxesSubplot:>"
      ]
     },
     "execution_count": 9,
     "metadata": {},
     "output_type": "execute_result"
    },
    {
     "data": {
      "image/png": "[encoded data removed]",
      "text/plain": [
       "<Figure size 432x288 with 2 Axes>"
      ]
     },
     "metadata": {
      "needs_background": "light"
     },
     "output_type": "display_data"
    }
   ],
   "source": [
    "feat_list = df[['area (km²)', 'density (km²)']]\n",
    "\n",
    "corr_feat_list = feat_list.corr()\n",
    "\n",
    "sns.heatmap(corr_feat_list, annot = True)"
   ]
  },
  {
   "cell_type": "markdown",
   "id": "24d3841b",
   "metadata": {},
   "source": [
    "### Creating a dataset summarizing the population per year"
   ]
  },
  {
   "cell_type": "code",
   "execution_count": 11,
   "id": "d799bc02",
   "metadata": {},
   "outputs": [
    {
     "data": {
      "text/html": [
       "<div>\n",
       "<style scoped>\n",
       "    .dataframe tbody tr th:only-of-type {\n",
       "        vertical-align: middle;\n",
       "    }\n",
       "\n",
       "    .dataframe tbody tr th {\n",
       "        vertical-align: top;\n",
       "    }\n",
       "\n",
       "    .dataframe thead th {\n",
       "        text-align: right;\n",
       "    }\n",
       "</style>\n",
       "<table border=\"1\" class=\"dataframe\">\n",
       "  <thead>\n",
       "    <tr style=\"text-align: right;\">\n",
       "      <th></th>\n",
       "      <th>Year</th>\n",
       "      <th>Total Population</th>\n",
       "    </tr>\n",
       "  </thead>\n",
       "  <tbody>\n",
       "    <tr>\n",
       "      <th>0</th>\n",
       "      <td>2023</td>\n",
       "      <td>8043615390</td>\n",
       "    </tr>\n",
       "    <tr>\n",
       "      <th>1</th>\n",
       "      <td>2022</td>\n",
       "      <td>7973413043</td>\n",
       "    </tr>\n",
       "    <tr>\n",
       "      <th>2</th>\n",
       "      <td>2020</td>\n",
       "      <td>7839250603</td>\n",
       "    </tr>\n",
       "    <tr>\n",
       "      <th>3</th>\n",
       "      <td>2015</td>\n",
       "      <td>7424809761</td>\n",
       "    </tr>\n",
       "    <tr>\n",
       "      <th>4</th>\n",
       "      <td>2010</td>\n",
       "      <td>6983785000</td>\n",
       "    </tr>\n",
       "    <tr>\n",
       "      <th>5</th>\n",
       "      <td>2000</td>\n",
       "      <td>6147055703</td>\n",
       "    </tr>\n",
       "    <tr>\n",
       "      <th>6</th>\n",
       "      <td>1990</td>\n",
       "      <td>5314191665</td>\n",
       "    </tr>\n",
       "    <tr>\n",
       "      <th>7</th>\n",
       "      <td>1980</td>\n",
       "      <td>4442400374</td>\n",
       "    </tr>\n",
       "    <tr>\n",
       "      <th>8</th>\n",
       "      <td>1970</td>\n",
       "      <td>3694136661</td>\n",
       "    </tr>\n",
       "  </tbody>\n",
       "</table>\n",
       "</div>"
      ],
      "text/plain": [
       "   Year  Total Population\n",
       "0  2023        8043615390\n",
       "1  2022        7973413043\n",
       "2  2020        7839250603\n",
       "3  2015        7424809761\n",
       "4  2010        6983785000\n",
       "5  2000        6147055703\n",
       "6  1990        5314191665\n",
       "7  1980        4442400374\n",
       "8  1970        3694136661"
      ]
     },
     "execution_count": 11,
     "metadata": {},
     "output_type": "execute_result"
    }
   ],
   "source": [
    "df1 = pd.read_csv(\"world_population_datapivot.csv\", sep = \";\")\n",
    "df1"
   ]
  },
  {
   "cell_type": "code",
   "execution_count": 12,
   "id": "afb51a9e",
   "metadata": {},
   "outputs": [
    {
     "name": "stdout",
     "output_type": "stream",
     "text": [
      "<class 'pandas.core.frame.DataFrame'>\n",
      "RangeIndex: 9 entries, 0 to 8\n",
      "Data columns (total 2 columns):\n",
      " #   Column            Non-Null Count  Dtype\n",
      "---  ------            --------------  -----\n",
      " 0   Year              9 non-null      int64\n",
      " 1   Total Population  9 non-null      int64\n",
      "dtypes: int64(2)\n",
      "memory usage: 272.0 bytes\n"
     ]
    }
   ],
   "source": [
    "df1.info()"
   ]
  },
  {
   "cell_type": "markdown",
   "id": "8591cfc3",
   "metadata": {},
   "source": [
    "# MACHINE LEARNING"
   ]
  },
  {
   "cell_type": "markdown",
   "id": "0293caac",
   "metadata": {},
   "source": [
    "### Creating the X and y dataset and training and testing dataser"
   ]
  },
  {
   "cell_type": "code",
   "execution_count": 13,
   "id": "e916fb2b",
   "metadata": {},
   "outputs": [
    {
     "name": "stdout",
     "output_type": "stream",
     "text": [
      "   Year\n",
      "4  2010\n",
      "8  1970\n",
      "3  2015\n",
      "5  2000\n",
      "6  1990\n",
      "1  2022\n",
      "4    6983785000\n",
      "8    3694136661\n",
      "3    7424809761\n",
      "5    6147055703\n",
      "6    5314191665\n",
      "1    7973413043\n",
      "Name: Total Population, dtype: int64\n"
     ]
    }
   ],
   "source": [
    "from sklearn.model_selection import train_test_split\n",
    "\n",
    "X = df1[['Year']]\n",
    "y = df1['Total Population']\n",
    "\n",
    "X_train, X_test, y_train, y_test = train_test_split(X, y, test_size=0.3, random_state=101)\n",
    "\n",
    "print(X_train)\n",
    "print(y_train)"
   ]
  },
  {
   "cell_type": "markdown",
   "id": "db9f3fe7",
   "metadata": {},
   "source": [
    "### Training the model"
   ]
  },
  {
   "cell_type": "code",
   "execution_count": 14,
   "id": "010bc68a",
   "metadata": {},
   "outputs": [
    {
     "data": {
      "text/plain": [
       "LinearRegression()"
      ]
     },
     "execution_count": 14,
     "metadata": {},
     "output_type": "execute_result"
    }
   ],
   "source": [
    "from sklearn.linear_model import LinearRegression\n",
    "\n",
    "lm = LinearRegression()\n",
    "\n",
    "lm.fit(X_train, y_train)"
   ]
  },
  {
   "cell_type": "markdown",
   "id": "4dd2beb6",
   "metadata": {},
   "source": [
    "### Making predictions"
   ]
  },
  {
   "cell_type": "code",
   "execution_count": 15,
   "id": "22d586ee",
   "metadata": {},
   "outputs": [],
   "source": [
    "predictions = lm.predict(X_test)"
   ]
  },
  {
   "cell_type": "markdown",
   "id": "2ee46229",
   "metadata": {},
   "source": [
    "### Scatter the correlation between real values and predicted values"
   ]
  },
  {
   "cell_type": "code",
   "execution_count": 16,
   "id": "241da0cb",
   "metadata": {},
   "outputs": [
    {
     "data": {
      "text/plain": [
       "<matplotlib.collections.PathCollection at 0x2573ec63400>"
      ]
     },
     "execution_count": 16,
     "metadata": {},
     "output_type": "execute_result"
    },
    {
     "data": {
      "image/png": "[encoded data removed]",
      "text/plain": [
       "<Figure size 432x288 with 1 Axes>"
      ]
     },
     "metadata": {
      "needs_background": "light"
     },
     "output_type": "display_data"
    }
   ],
   "source": [
    "plt.scatter(y_test, predictions)"
   ]
  },
  {
   "cell_type": "markdown",
   "id": "11ab0a8a",
   "metadata": {},
   "source": [
    "### Histogram of the residuals (errors)"
   ]
  },
  {
   "cell_type": "code",
   "execution_count": 17,
   "id": "17f51992",
   "metadata": {},
   "outputs": [
    {
     "data": {
      "text/plain": [
       "<AxesSubplot:xlabel='Total Population', ylabel='Density'>"
      ]
     },
     "execution_count": 17,
     "metadata": {},
     "output_type": "execute_result"
    },
    {
     "data": {
      "image/png": "[encoded data removed]",
      "text/plain": [
       "<Figure size 432x288 with 1 Axes>"
      ]
     },
     "metadata": {
      "needs_background": "light"
     },
     "output_type": "display_data"
    }
   ],
   "source": [
    "sns.distplot((y_test-predictions))"
   ]
  },
  {
   "cell_type": "markdown",
   "id": "b6544e18",
   "metadata": {},
   "source": [
    "### Performing the evaluation of the model"
   ]
  },
  {
   "cell_type": "code",
   "execution_count": 18,
   "id": "6e127339",
   "metadata": {},
   "outputs": [
    {
     "name": "stdout",
     "output_type": "stream",
     "text": [
      "MAE:  35907931.494374596\n",
      "MSE:  1699236891164573.8\n",
      "RMSE:  41221801.16351751\n"
     ]
    }
   ],
   "source": [
    "from sklearn import metrics\n",
    "\n",
    "print(\"MAE: \", metrics.mean_absolute_error(y_test, predictions))\n",
    "print(\"MSE: \", metrics.mean_squared_error(y_test, predictions))\n",
    "print(\"RMSE: \", np.sqrt(metrics.mean_squared_error(y_test, predictions)))"
   ]
  },
  {
   "cell_type": "markdown",
   "id": "077a38a4",
   "metadata": {},
   "source": [
    "# SIMULATION"
   ]
  },
  {
   "cell_type": "code",
   "execution_count": 19,
   "id": "3bb63d0b",
   "metadata": {},
   "outputs": [
    {
     "name": "stdout",
     "output_type": "stream",
     "text": [
      "The prediction for the 2024 population is:  8143743837\n"
     ]
    }
   ],
   "source": [
    "year = [[2024]]\n",
    "pred_pop = lm.predict(year)\n",
    "\n",
    "print(f\"The prediction for the {year[0][0]} population is: \", int(pred_pop))"
   ]
  },
  {
   "cell_type": "code",
   "execution_count": 20,
   "id": "10a87b7c",
   "metadata": {},
   "outputs": [
    {
     "name": "stdout",
     "output_type": "stream",
     "text": [
      "The prediction for the 2025 population is:  8226408590\n"
     ]
    }
   ],
   "source": [
    "year = [[2025]]\n",
    "pred_pop = lm.predict(year)\n",
    "\n",
    "print(f\"The prediction for the {year[0][0]} population is: \", int(pred_pop))"
   ]
  },
  {
   "cell_type": "code",
   "execution_count": 21,
   "id": "a650a599",
   "metadata": {},
   "outputs": [
    {
     "name": "stdout",
     "output_type": "stream",
     "text": [
      "The prediction for the 2030 population is:  8639732356\n"
     ]
    }
   ],
   "source": [
    "year = [[2030]]\n",
    "pred_pop = lm.predict(year)\n",
    "\n",
    "print(f\"The prediction for the {year[0][0]} population is: \", int(pred_pop))"
   ]
  },
  {
   "cell_type": "code",
   "execution_count": 22,
   "id": "ce21f6e5",
   "metadata": {},
   "outputs": [
    {
     "name": "stdout",
     "output_type": "stream",
     "text": [
      "The prediction for the 2050 population is:  10293027420\n"
     ]
    }
   ],
   "source": [
    "year = [[2050]]\n",
    "pred_pop = lm.predict(year)\n",
    "\n",
    "print(f\"The prediction for the {year[0][0]} population is: \", int(pred_pop))"
   ]
  },
  {
   "cell_type": "code",
   "execution_count": 23,
   "id": "a98ca759",
   "metadata": {},
   "outputs": [
    {
     "name": "stdout",
     "output_type": "stream",
     "text": [
      "The prediction for the 2100 population is:  14426265081\n"
     ]
    }
   ],
   "source": [
    "year = [[2100]]\n",
    "pred_pop = lm.predict(year)\n",
    "\n",
    "print(f\"The prediction for the {year[0][0]} population is: \", int(pred_pop))"
   ]
  }
 ],
 "metadata": {
  "kernelspec": {
   "display_name": "Python 3 (ipykernel)",
   "language": "python",
   "name": "python3"
  },
  "language_info": {
   "codemirror_mode": {
    "name": "ipython",
    "version": 3
   },
   "file_extension": ".py",
   "mimetype": "text/x-python",
   "name": "python",
   "nbconvert_exporter": "python",
   "pygments_lexer": "ipython3",
   "version": "3.9.7"
  }
 },
 "nbformat": 4,
 "nbformat_minor": 5
}
